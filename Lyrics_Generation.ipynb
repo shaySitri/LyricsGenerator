{
  "cells": [
    {
      "cell_type": "markdown",
      "metadata": {
        "id": "view-in-github",
        "colab_type": "text"
      },
      "source": [
        "<a href=\"https://colab.research.google.com/github/shaySitri/LyricsGenerator/blob/main/Lyrics_Generation.ipynb\" target=\"_parent\"><img src=\"https://colab.research.google.com/assets/colab-badge.svg\" alt=\"Open In Colab\"/></a>"
      ]
    },
    {
      "cell_type": "markdown",
      "metadata": {
        "id": "mqdRf-F4OCq_"
      },
      "source": [
        "# Deep Learning - Assignment 3\n"
      ]
    },
    {
      "cell_type": "code",
      "execution_count": null,
      "metadata": {
        "id": "ZWPzZdFEOCrA"
      },
      "outputs": [],
      "source": [
        "import pretty_midi\n",
        "import matplotlib.pyplot as plt\n",
        "import pandas as pd\n",
        "import os\n",
        "from gensim.models import Word2Vec\n",
        "from collections import Counter\n",
        "import seaborn as sns\n",
        "import nltk\n",
        "import re\n",
        "import numpy as np\n",
        "from sklearn.decomposition import PCA\n",
        "import gensim\n",
        "from torch.utils.data import Dataset, DataLoader, Subset\n",
        "from torch import nn\n",
        "import torch\n",
        "from torch import optim\n",
        "import unicodedata\n",
        "import math\n",
        "from sklearn.metrics.pairwise import cosine_similarity\n",
        "import torch\n",
        "import torch.nn.functional as F\n",
        "from nltk.translate.bleu_score import sentence_bleu, SmoothingFunction\n",
        "import string\n",
        "from sklearn.model_selection import train_test_split\n",
        "import neptune\n",
        "import time\n",
        "from neptune.types import File\n",
        "from tqdm import tqdm\n",
        "from torch.nn.utils.rnn import pad_sequence\n",
        "import gensim.downloader"
      ]
    },
    {
      "cell_type": "code",
      "execution_count": null,
      "metadata": {
        "id": "PM9srOlGOCrB",
        "outputId": "755ab5cb-7a69-4845-a102-ccfe6c1242e8"
      },
      "outputs": [
        {
          "name": "stdout",
          "output_type": "stream",
          "text": [
            "Using device: cuda\n"
          ]
        }
      ],
      "source": [
        "device = torch.device(\"cuda\" if torch.cuda.is_available() else \"cpu\")\n",
        "print(f'Using device: {device}')"
      ]
    },
    {
      "cell_type": "markdown",
      "metadata": {
        "id": "aHWiiO5bOCrB"
      },
      "source": [
        "## Preprocess"
      ]
    },
    {
      "cell_type": "code",
      "source": [
        "midi_dir = \"\""
      ],
      "metadata": {
        "id": "v29pz7fdTEvj"
      },
      "execution_count": null,
      "outputs": []
    },
    {
      "cell_type": "code",
      "execution_count": null,
      "metadata": {
        "id": "nLS7PP8ROCrC"
      },
      "outputs": [],
      "source": [
        "train_df = pd.read_csv(f\"{midi_dir}/lyrics_train_set.csv\", header=None)"
      ]
    },
    {
      "cell_type": "code",
      "execution_count": null,
      "metadata": {
        "id": "YVzAUS5GOCrC",
        "outputId": "7a8b88b6-93dc-4ae6-a24b-37f5d18162ce"
      },
      "outputs": [
        {
          "data": {
            "text/plain": [
              "0      0\n",
              "1      0\n",
              "2      0\n",
              "3    586\n",
              "4    586\n",
              "5    599\n",
              "6    599\n",
              "dtype: int64"
            ]
          },
          "execution_count": 4,
          "metadata": {},
          "output_type": "execute_result"
        }
      ],
      "source": [
        "# check whayt are the \"messy rows\" (those with more than 1 song)\n",
        "train_df.isnull().sum()"
      ]
    },
    {
      "cell_type": "code",
      "execution_count": null,
      "metadata": {
        "id": "RPKl7am8OCrC"
      },
      "outputs": [],
      "source": [
        "map_song_path = {'singer':[], 'song':[], 'path':[]}\n",
        "# assign directory\n",
        "directory = f'{midi_dir}/midi_files'\n",
        "\n",
        "# map all the midi file to their corresponsings lyrics\n",
        "for file in os.listdir(directory):\n",
        "    file_name = file.split(\"-\")\n",
        "    singer = file_name[0].replace(\"_\", \" \")[:-1].lower()\n",
        "    song = file_name[1].split(\".\")\n",
        "    song = song[0].replace(\"_\", \" \")[1:].lower()\n",
        "    map_song_path['singer'].append(singer)\n",
        "    map_song_path['song'].append(song)\n",
        "    map_song_path['path'].append(file)\n",
        "\n",
        "map_song_path = pd.DataFrame(map_song_path)"
      ]
    },
    {
      "cell_type": "code",
      "execution_count": null,
      "metadata": {
        "id": "6ZayjMeIOCrC",
        "outputId": "f93b5e9b-2ad2-4153-e9d7-997eead5a3b7"
      },
      "outputs": [
        {
          "data": {
            "text/html": [
              "<div>\n",
              "<style scoped>\n",
              "    .dataframe tbody tr th:only-of-type {\n",
              "        vertical-align: middle;\n",
              "    }\n",
              "\n",
              "    .dataframe tbody tr th {\n",
              "        vertical-align: top;\n",
              "    }\n",
              "\n",
              "    .dataframe thead th {\n",
              "        text-align: right;\n",
              "    }\n",
              "</style>\n",
              "<table border=\"1\" class=\"dataframe\">\n",
              "  <thead>\n",
              "    <tr style=\"text-align: right;\">\n",
              "      <th></th>\n",
              "      <th>singer</th>\n",
              "      <th>song</th>\n",
              "      <th>path</th>\n",
              "    </tr>\n",
              "  </thead>\n",
              "  <tbody>\n",
              "    <tr>\n",
              "      <th>0</th>\n",
              "      <td>the fugees</td>\n",
              "      <td>ready or not</td>\n",
              "      <td>The_Fugees_-_Ready_or_Not.mid</td>\n",
              "    </tr>\n",
              "    <tr>\n",
              "      <th>1</th>\n",
              "      <td>the fugees</td>\n",
              "      <td>no woman no cry</td>\n",
              "      <td>The_Fugees_-_No_Woman_No_Cry.mid</td>\n",
              "    </tr>\n",
              "    <tr>\n",
              "      <th>2</th>\n",
              "      <td>the fugees</td>\n",
              "      <td>killing me softly</td>\n",
              "      <td>The_Fugees_-_Killing_Me_Softly.mid</td>\n",
              "    </tr>\n",
              "    <tr>\n",
              "      <th>3</th>\n",
              "      <td>the four seasons</td>\n",
              "      <td>walk like a man</td>\n",
              "      <td>The_Four_Seasons_-_Walk_Like_a_Man.mid</td>\n",
              "    </tr>\n",
              "    <tr>\n",
              "      <th>4</th>\n",
              "      <td>the four seasons</td>\n",
              "      <td>sherry</td>\n",
              "      <td>The_Four_Seasons_-_Sherry.mid</td>\n",
              "    </tr>\n",
              "    <tr>\n",
              "      <th>...</th>\n",
              "      <td>...</td>\n",
              "      <td>...</td>\n",
              "      <td>...</td>\n",
              "    </tr>\n",
              "    <tr>\n",
              "      <th>620</th>\n",
              "      <td>2 unlimited</td>\n",
              "      <td>twilight zone</td>\n",
              "      <td>2_Unlimited_-_Twilight_Zone.mid</td>\n",
              "    </tr>\n",
              "    <tr>\n",
              "      <th>621</th>\n",
              "      <td>2 unlimited</td>\n",
              "      <td>tribal dance</td>\n",
              "      <td>2_Unlimited_-_Tribal_Dance.mid</td>\n",
              "    </tr>\n",
              "    <tr>\n",
              "      <th>622</th>\n",
              "      <td>2 unlimited</td>\n",
              "      <td>let the beat control your body</td>\n",
              "      <td>2_Unlimited_-_Let_the_Beat_Control_Your_Body.mid</td>\n",
              "    </tr>\n",
              "    <tr>\n",
              "      <th>623</th>\n",
              "      <td>2 unlimited</td>\n",
              "      <td>get ready for this</td>\n",
              "      <td>2_Unlimited_-_Get_Ready_for_This.mid</td>\n",
              "    </tr>\n",
              "    <tr>\n",
              "      <th>624</th>\n",
              "      <td>1910 fruitgum company</td>\n",
              "      <td>simon says</td>\n",
              "      <td>1910_Fruitgum_Company_-_Simon_Says.mid</td>\n",
              "    </tr>\n",
              "  </tbody>\n",
              "</table>\n",
              "<p>625 rows × 3 columns</p>\n",
              "</div>"
            ],
            "text/plain": [
              "                    singer                            song  \\\n",
              "0               the fugees                    ready or not   \n",
              "1               the fugees                 no woman no cry   \n",
              "2               the fugees               killing me softly   \n",
              "3         the four seasons                 walk like a man   \n",
              "4         the four seasons                          sherry   \n",
              "..                     ...                             ...   \n",
              "620            2 unlimited                   twilight zone   \n",
              "621            2 unlimited                    tribal dance   \n",
              "622            2 unlimited  let the beat control your body   \n",
              "623            2 unlimited              get ready for this   \n",
              "624  1910 fruitgum company                      simon says   \n",
              "\n",
              "                                                 path  \n",
              "0                       The_Fugees_-_Ready_or_Not.mid  \n",
              "1                    The_Fugees_-_No_Woman_No_Cry.mid  \n",
              "2                  The_Fugees_-_Killing_Me_Softly.mid  \n",
              "3              The_Four_Seasons_-_Walk_Like_a_Man.mid  \n",
              "4                       The_Four_Seasons_-_Sherry.mid  \n",
              "..                                                ...  \n",
              "620                   2_Unlimited_-_Twilight_Zone.mid  \n",
              "621                    2_Unlimited_-_Tribal_Dance.mid  \n",
              "622  2_Unlimited_-_Let_the_Beat_Control_Your_Body.mid  \n",
              "623              2_Unlimited_-_Get_Ready_for_This.mid  \n",
              "624            1910_Fruitgum_Company_-_Simon_Says.mid  \n",
              "\n",
              "[625 rows x 3 columns]"
            ]
          },
          "execution_count": 6,
          "metadata": {},
          "output_type": "execute_result"
        }
      ],
      "source": [
        "map_song_path"
      ]
    },
    {
      "cell_type": "code",
      "execution_count": null,
      "metadata": {
        "id": "a78PtkljOCrC"
      },
      "outputs": [],
      "source": [
        "# leave only the rows with more than 3 columns\n",
        "train_df_double_rows = train_df.dropna(thresh=4)"
      ]
    },
    {
      "cell_type": "code",
      "execution_count": null,
      "metadata": {
        "id": "Tcu2BYFAOCrC"
      },
      "outputs": [],
      "source": [
        "# parse the path into singer & song\n",
        "def append_song_to_dict(rows_dict, row):\n",
        "    singer = row[0]\n",
        "    song1 = row[1]\n",
        "    lyrics1 = row[2]\n",
        "    song2 = row[3]\n",
        "    lyrics2 = row[4]\n",
        "    rows_dict['singer'].append(singer)\n",
        "    rows_dict['song'].append(song1)\n",
        "    rows_dict['lyrics'].append(lyrics1)\n",
        "    rows_dict['singer'].append(singer)\n",
        "    rows_dict['song'].append(song2)\n",
        "    rows_dict['lyrics'].append(lyrics2)\n",
        "    if not pd.isna(row[5]):\n",
        "        song3 = row[5]\n",
        "        lyrics3 = row[6]\n",
        "        rows_dict['singer'].append(singer)\n",
        "        rows_dict['song'].append(song3)\n",
        "        rows_dict['lyrics'].append(lyrics3)"
      ]
    },
    {
      "cell_type": "code",
      "execution_count": null,
      "metadata": {
        "id": "_rx21jCLOCrC"
      },
      "outputs": [],
      "source": [
        "# repair the wrong rows (those with more than 3 columns)\n",
        "repaired_rows = {'singer':[], 'song':[], 'lyrics':[]}\n",
        "train_df_double_rows.apply(lambda x: append_song_to_dict(repaired_rows, x) , axis = 1, raw = True)\n",
        "repaired_rows = pd.DataFrame(repaired_rows)"
      ]
    },
    {
      "cell_type": "code",
      "execution_count": null,
      "metadata": {
        "id": "lf2rrUWtOCrC"
      },
      "outputs": [],
      "source": [
        "# remove the repaird rows from the original data set\n",
        "train_df = train_df.drop(list(train_df_double_rows.index), axis=0)"
      ]
    },
    {
      "cell_type": "code",
      "execution_count": null,
      "metadata": {
        "id": "iBnpEf9tOCrC"
      },
      "outputs": [],
      "source": [
        "# leave only the relevant columns\n",
        "train_df = train_df[[0,1,2]]\n",
        "train_df.columns = ['singer', 'song', 'lyrics']"
      ]
    },
    {
      "cell_type": "code",
      "execution_count": null,
      "metadata": {
        "id": "3enHxRdwOCrD"
      },
      "outputs": [],
      "source": [
        "# concat the repaired rows and the original data set\n",
        "train_df = pd.concat([train_df, repaired_rows])"
      ]
    },
    {
      "cell_type": "code",
      "execution_count": null,
      "metadata": {
        "id": "ulpEKrpfOCrD"
      },
      "outputs": [],
      "source": [
        "train_df = train_df.merge(map_song_path, how='left', on=['singer', 'song'])"
      ]
    },
    {
      "cell_type": "code",
      "execution_count": null,
      "metadata": {
        "id": "k8FrqWRaOCrD",
        "outputId": "afa6405f-a272-43d6-e80b-ac6f98673747"
      },
      "outputs": [
        {
          "data": {
            "text/plain": [
              "singer    0\n",
              "song      0\n",
              "lyrics    0\n",
              "path      5\n",
              "dtype: int64"
            ]
          },
          "execution_count": 14,
          "metadata": {},
          "output_type": "execute_result"
        }
      ],
      "source": [
        "# songs without midi file\n",
        "train_df.isnull().sum()"
      ]
    },
    {
      "cell_type": "code",
      "execution_count": null,
      "metadata": {
        "id": "qmJpTNIzOCrD"
      },
      "outputs": [],
      "source": [
        "# remove songs without midi & duplicates songs if exist\n",
        "train_df = train_df.dropna()"
      ]
    },
    {
      "cell_type": "code",
      "execution_count": null,
      "metadata": {
        "id": "NoSrkOEvOCrD"
      },
      "outputs": [],
      "source": [
        "train_df = train_df.reset_index()[['singer','song','lyrics','path']]"
      ]
    },
    {
      "cell_type": "code",
      "execution_count": null,
      "metadata": {
        "id": "Roz_y7L-OCrD",
        "outputId": "832eef93-63f0-4696-eb94-ac9d25ebadcd"
      },
      "outputs": [
        {
          "data": {
            "text/html": [
              "<div>\n",
              "<style scoped>\n",
              "    .dataframe tbody tr th:only-of-type {\n",
              "        vertical-align: middle;\n",
              "    }\n",
              "\n",
              "    .dataframe tbody tr th {\n",
              "        vertical-align: top;\n",
              "    }\n",
              "\n",
              "    .dataframe thead th {\n",
              "        text-align: right;\n",
              "    }\n",
              "</style>\n",
              "<table border=\"1\" class=\"dataframe\">\n",
              "  <thead>\n",
              "    <tr style=\"text-align: right;\">\n",
              "      <th></th>\n",
              "      <th>singer</th>\n",
              "      <th>song</th>\n",
              "      <th>lyrics</th>\n",
              "      <th>path</th>\n",
              "    </tr>\n",
              "  </thead>\n",
              "  <tbody>\n",
              "    <tr>\n",
              "      <th>0</th>\n",
              "      <td>elton john</td>\n",
              "      <td>candle in the wind</td>\n",
              "      <td>goodbye norma jean &amp; though i never knew you a...</td>\n",
              "      <td>Elton_John_-_Candle_in_the_Wind.mid</td>\n",
              "    </tr>\n",
              "    <tr>\n",
              "      <th>1</th>\n",
              "      <td>gerry rafferty</td>\n",
              "      <td>baker street</td>\n",
              "      <td>winding your way down on baker street &amp; lite i...</td>\n",
              "      <td>Gerry_Rafferty_-_Baker_Street.mid</td>\n",
              "    </tr>\n",
              "    <tr>\n",
              "      <th>2</th>\n",
              "      <td>gerry rafferty</td>\n",
              "      <td>right down the line</td>\n",
              "      <td>you know i need your love &amp; you've got that ho...</td>\n",
              "      <td>Gerry_Rafferty_-_Right_Down_the_Line.mid</td>\n",
              "    </tr>\n",
              "    <tr>\n",
              "      <th>3</th>\n",
              "      <td>2 unlimited</td>\n",
              "      <td>tribal dance</td>\n",
              "      <td>come on check it out ya'll &amp; (come on come on!...</td>\n",
              "      <td>2_Unlimited_-_Tribal_Dance.mid</td>\n",
              "    </tr>\n",
              "    <tr>\n",
              "      <th>4</th>\n",
              "      <td>2 unlimited</td>\n",
              "      <td>let the beat control your body</td>\n",
              "      <td>let the beat control your body &amp; let the beat ...</td>\n",
              "      <td>2_Unlimited_-_Let_the_Beat_Control_Your_Body.mid</td>\n",
              "    </tr>\n",
              "    <tr>\n",
              "      <th>...</th>\n",
              "      <td>...</td>\n",
              "      <td>...</td>\n",
              "      <td>...</td>\n",
              "      <td>...</td>\n",
              "    </tr>\n",
              "    <tr>\n",
              "      <th>605</th>\n",
              "      <td>ace of base</td>\n",
              "      <td>don't turn around</td>\n",
              "      <td>if you want to leave   &amp; i won't beg you to st...</td>\n",
              "      <td>Ace_of_Base_-_Don't_Turn_Around.mid</td>\n",
              "    </tr>\n",
              "    <tr>\n",
              "      <th>606</th>\n",
              "      <td>backstreet boys</td>\n",
              "      <td>i'll never break your heart</td>\n",
              "      <td>baby i know you're hurting   &amp; right now you f...</td>\n",
              "      <td>Backstreet_Boys_-_I'll_Never_Break_Your_Heart.mid</td>\n",
              "    </tr>\n",
              "    <tr>\n",
              "      <th>607</th>\n",
              "      <td>backstreet boys</td>\n",
              "      <td>larger than life</td>\n",
              "      <td>i may run and hide &amp; when you're screamin' my ...</td>\n",
              "      <td>Backstreet_Boys_-_Larger_Than_Life.mid</td>\n",
              "    </tr>\n",
              "    <tr>\n",
              "      <th>608</th>\n",
              "      <td>bee gees</td>\n",
              "      <td>jive talkin'</td>\n",
              "      <td>it's just your jive talkin'   &amp; you're telling...</td>\n",
              "      <td>Bee_Gees_-_Jive_Talkin'.mid</td>\n",
              "    </tr>\n",
              "    <tr>\n",
              "      <th>609</th>\n",
              "      <td>bee gees</td>\n",
              "      <td>i just want to be your everything</td>\n",
              "      <td>for so long &amp; you and me been finding each oth...</td>\n",
              "      <td>Bee_Gees_-_I_Just_Want_to_Be_Your_Everything.mid</td>\n",
              "    </tr>\n",
              "  </tbody>\n",
              "</table>\n",
              "<p>610 rows × 4 columns</p>\n",
              "</div>"
            ],
            "text/plain": [
              "              singer                               song  \\\n",
              "0         elton john                 candle in the wind   \n",
              "1     gerry rafferty                       baker street   \n",
              "2     gerry rafferty                right down the line   \n",
              "3        2 unlimited                       tribal dance   \n",
              "4        2 unlimited     let the beat control your body   \n",
              "..               ...                                ...   \n",
              "605      ace of base                  don't turn around   \n",
              "606  backstreet boys        i'll never break your heart   \n",
              "607  backstreet boys                   larger than life   \n",
              "608         bee gees                       jive talkin'   \n",
              "609         bee gees  i just want to be your everything   \n",
              "\n",
              "                                                lyrics  \\\n",
              "0    goodbye norma jean & though i never knew you a...   \n",
              "1    winding your way down on baker street & lite i...   \n",
              "2    you know i need your love & you've got that ho...   \n",
              "3    come on check it out ya'll & (come on come on!...   \n",
              "4    let the beat control your body & let the beat ...   \n",
              "..                                                 ...   \n",
              "605  if you want to leave   & i won't beg you to st...   \n",
              "606  baby i know you're hurting   & right now you f...   \n",
              "607  i may run and hide & when you're screamin' my ...   \n",
              "608  it's just your jive talkin'   & you're telling...   \n",
              "609  for so long & you and me been finding each oth...   \n",
              "\n",
              "                                                  path  \n",
              "0                  Elton_John_-_Candle_in_the_Wind.mid  \n",
              "1                    Gerry_Rafferty_-_Baker_Street.mid  \n",
              "2             Gerry_Rafferty_-_Right_Down_the_Line.mid  \n",
              "3                       2_Unlimited_-_Tribal_Dance.mid  \n",
              "4     2_Unlimited_-_Let_the_Beat_Control_Your_Body.mid  \n",
              "..                                                 ...  \n",
              "605                Ace_of_Base_-_Don't_Turn_Around.mid  \n",
              "606  Backstreet_Boys_-_I'll_Never_Break_Your_Heart.mid  \n",
              "607             Backstreet_Boys_-_Larger_Than_Life.mid  \n",
              "608                        Bee_Gees_-_Jive_Talkin'.mid  \n",
              "609   Bee_Gees_-_I_Just_Want_to_Be_Your_Everything.mid  \n",
              "\n",
              "[610 rows x 4 columns]"
            ]
          },
          "execution_count": 17,
          "metadata": {},
          "output_type": "execute_result"
        }
      ],
      "source": [
        "train_df"
      ]
    },
    {
      "cell_type": "code",
      "execution_count": null,
      "metadata": {
        "id": "vbpPQwDQOCrD"
      },
      "outputs": [],
      "source": [
        "test_df = pd.read_csv(f\"{midi_dir}/lyrics_test_set.csv\", header=None)"
      ]
    },
    {
      "cell_type": "code",
      "execution_count": null,
      "metadata": {
        "id": "Ly-gzNLiOCrD"
      },
      "outputs": [],
      "source": [
        "# leave only the relevant columns\n",
        "test_df = test_df[[0,1,2]]\n",
        "test_df.columns = ['singer', 'song', 'lyrics']"
      ]
    },
    {
      "cell_type": "code",
      "execution_count": null,
      "metadata": {
        "id": "qJMPNwW-OCrD"
      },
      "outputs": [],
      "source": [
        "test_df['song'] = test_df.apply(lambda x: x[1][1:], axis = 1, raw=True)"
      ]
    },
    {
      "cell_type": "code",
      "execution_count": null,
      "metadata": {
        "id": "F6DWOO9_OCrD"
      },
      "outputs": [],
      "source": [
        "test_df = pd.merge(test_df, map_song_path, how='left', on=['singer', 'song'])\n"
      ]
    },
    {
      "cell_type": "markdown",
      "metadata": {
        "id": "ib8HKytIOCrD"
      },
      "source": [
        "## Tokenization Step"
      ]
    },
    {
      "cell_type": "code",
      "execution_count": null,
      "metadata": {
        "id": "re1nmNzfOCrD"
      },
      "outputs": [],
      "source": [
        "def fix_lyrics(lyrics):\n",
        "    \"\"\"\n",
        "      Function to clean up song lyrics by removing repetitive markers like  'repeat', and similar patterns.\n",
        "\n",
        "      Parameters:\n",
        "      lyrics (str): The original song lyrics.\n",
        "\n",
        "      Returns:\n",
        "      str: The song lyrics after removing the repetitive markers.\n",
        "    \"\"\"\n",
        "    pattern = r\"\\b(?:\\d*x\\d+|\\d+x|x\\d+|repeatx+\\d+|x+\\d+repeat|repeat|X|x|chorus)\\b\"\n",
        "    matches = re.search(pattern, lyrics)\n",
        "    if matches != None:\n",
        "        lyrics = re.sub(pattern, \"\", lyrics)\n",
        "    return lyrics"
      ]
    },
    {
      "cell_type": "code",
      "execution_count": null,
      "metadata": {
        "id": "ySr65UrBOCrD"
      },
      "outputs": [],
      "source": [
        "def remove_non_ascii_words(text):\n",
        "    \"\"\"\n",
        "      Function to remove words from a text that contain non-ASCII characters and filter out non-printable ASCII characters.\n",
        "\n",
        "      Parameters:\n",
        "      text (str): The original text.\n",
        "\n",
        "      Returns:\n",
        "      str: The text after removing non-ASCII words and filtering out non-printable ASCII characters.\n",
        "      \"\"\"\n",
        "    split = text.split()\n",
        "    flag = False\n",
        "    for token in split:\n",
        "        if not token.isascii():\n",
        "            text = text.replace(token, '')\n",
        "            flag = True\n",
        "\n",
        "    printable = set(string.printable)\n",
        "\n",
        "    # Filter out non-printable ASCII characters\n",
        "    filtered_text = ''.join(filter(lambda x: x in printable, text))\n",
        "\n",
        "    return filtered_text\n"
      ]
    },
    {
      "cell_type": "code",
      "execution_count": null,
      "metadata": {
        "id": "qzUhldYJOCrD"
      },
      "outputs": [],
      "source": [
        "all_tokens = []\n",
        "def tokenizer(lyrics, token_list):\n",
        "    \"\"\"\n",
        "        Function to tokenize song lyrics, replacing certain characters with spaces, and handling special cases.\n",
        "\n",
        "        Parameters:\n",
        "        lyrics (str): The original song lyrics.\n",
        "        token_list (list): The list to which the tokens will be added.\n",
        "\n",
        "        Returns:\n",
        "        str: The processed and tokenized lyrics.\n",
        "    \"\"\"\n",
        "    replace_tokens_none = ['!',',','.','?',\"'\",'&',';','*','#',':','`', '(',')','\"','$','%','@','#','+']\n",
        "    replace_tokens_space = ['-','\\t']\n",
        "    list_of_tokens = lyrics.split(\" \")\n",
        "    for i in range(len(list_of_tokens)):\n",
        "        token = list_of_tokens[i]\n",
        "\n",
        "        if token != '&' and not token.isalpha():\n",
        "            for nones_tokens in replace_tokens_none:\n",
        "                token = token.replace(nones_tokens,'')\n",
        "            for space_tokens in replace_tokens_space:\n",
        "                token = token.replace(space_tokens,' ')\n",
        "            if '[' in token or ']' in token or '{' in token or '}' in token:\n",
        "                token = ''\n",
        "        # token = ps.stem(token)\n",
        "        list_of_tokens[i] = token\n",
        "    list_of_tokens[-1] = 'eos'\n",
        "    list_of_tokens = [token for token in list_of_tokens if token != '']\n",
        "\n",
        "    pos = 0\n",
        "    for token in list_of_tokens:\n",
        "        if not token.isalpha():\n",
        "            pos += 1\n",
        "        else:\n",
        "            break\n",
        "\n",
        "    list_of_tokens = list_of_tokens[pos:]\n",
        "    repaired_lyrics = ' '.join(list_of_tokens).replace(\"& &\", \"&\")\n",
        "    # repaired_lyrics = repaired_lyrics.replace(\"&\", \"<EOL>\")\n",
        "    repaired_lyrics = repaired_lyrics.replace(\"&\", \"eol\")\n",
        "    list_of_tokens = repaired_lyrics.split()\n",
        "    token_list.extend(list_of_tokens)\n",
        "    return repaired_lyrics"
      ]
    },
    {
      "cell_type": "code",
      "execution_count": null,
      "metadata": {
        "id": "6zLgYs8pOCrD"
      },
      "outputs": [],
      "source": [
        "all_tokens = []\n",
        "train_df['lyrics'] = train_df.apply(lambda x: fix_lyrics(x[2]) , axis = 1, raw = True)\n",
        "train_df['lyrics'] = train_df.apply(lambda x: remove_non_ascii_words(x[2]) , axis = 1, raw = True)\n",
        "train_df['lyrics'] = train_df.apply(lambda x: tokenizer(x[2], all_tokens) , axis = 1, raw = True, result_type='expand')\n",
        "\n",
        "all_tokens = Counter(all_tokens)"
      ]
    },
    {
      "cell_type": "code",
      "execution_count": null,
      "metadata": {
        "id": "GKjrurLhOCrD",
        "outputId": "913ee086-efb6-45a0-fa75-53111c80c8e9"
      },
      "outputs": [
        {
          "data": {
            "text/html": [
              "<div>\n",
              "<style scoped>\n",
              "    .dataframe tbody tr th:only-of-type {\n",
              "        vertical-align: middle;\n",
              "    }\n",
              "\n",
              "    .dataframe tbody tr th {\n",
              "        vertical-align: top;\n",
              "    }\n",
              "\n",
              "    .dataframe thead th {\n",
              "        text-align: right;\n",
              "    }\n",
              "</style>\n",
              "<table border=\"1\" class=\"dataframe\">\n",
              "  <thead>\n",
              "    <tr style=\"text-align: right;\">\n",
              "      <th></th>\n",
              "      <th>singer</th>\n",
              "      <th>song</th>\n",
              "      <th>lyrics</th>\n",
              "      <th>path</th>\n",
              "    </tr>\n",
              "  </thead>\n",
              "  <tbody>\n",
              "    <tr>\n",
              "      <th>0</th>\n",
              "      <td>elton john</td>\n",
              "      <td>candle in the wind</td>\n",
              "      <td>goodbye norma jean eol though i never knew you...</td>\n",
              "      <td>Elton_John_-_Candle_in_the_Wind.mid</td>\n",
              "    </tr>\n",
              "    <tr>\n",
              "      <th>1</th>\n",
              "      <td>gerry rafferty</td>\n",
              "      <td>baker street</td>\n",
              "      <td>winding your way down on baker street eol lite...</td>\n",
              "      <td>Gerry_Rafferty_-_Baker_Street.mid</td>\n",
              "    </tr>\n",
              "    <tr>\n",
              "      <th>2</th>\n",
              "      <td>gerry rafferty</td>\n",
              "      <td>right down the line</td>\n",
              "      <td>you know i need your love eol youve got that h...</td>\n",
              "      <td>Gerry_Rafferty_-_Right_Down_the_Line.mid</td>\n",
              "    </tr>\n",
              "    <tr>\n",
              "      <th>3</th>\n",
              "      <td>2 unlimited</td>\n",
              "      <td>tribal dance</td>\n",
              "      <td>come on check it out yall eol come on come on ...</td>\n",
              "      <td>2_Unlimited_-_Tribal_Dance.mid</td>\n",
              "    </tr>\n",
              "    <tr>\n",
              "      <th>4</th>\n",
              "      <td>2 unlimited</td>\n",
              "      <td>let the beat control your body</td>\n",
              "      <td>let the beat control your body eol let the bea...</td>\n",
              "      <td>2_Unlimited_-_Let_the_Beat_Control_Your_Body.mid</td>\n",
              "    </tr>\n",
              "    <tr>\n",
              "      <th>...</th>\n",
              "      <td>...</td>\n",
              "      <td>...</td>\n",
              "      <td>...</td>\n",
              "      <td>...</td>\n",
              "    </tr>\n",
              "    <tr>\n",
              "      <th>605</th>\n",
              "      <td>ace of base</td>\n",
              "      <td>don't turn around</td>\n",
              "      <td>if you want to leave eol i wont beg you to sta...</td>\n",
              "      <td>Ace_of_Base_-_Don't_Turn_Around.mid</td>\n",
              "    </tr>\n",
              "    <tr>\n",
              "      <th>606</th>\n",
              "      <td>backstreet boys</td>\n",
              "      <td>i'll never break your heart</td>\n",
              "      <td>baby i know youre hurting eol right now you fe...</td>\n",
              "      <td>Backstreet_Boys_-_I'll_Never_Break_Your_Heart.mid</td>\n",
              "    </tr>\n",
              "    <tr>\n",
              "      <th>607</th>\n",
              "      <td>backstreet boys</td>\n",
              "      <td>larger than life</td>\n",
              "      <td>i may run and hide eol when youre screamin my ...</td>\n",
              "      <td>Backstreet_Boys_-_Larger_Than_Life.mid</td>\n",
              "    </tr>\n",
              "    <tr>\n",
              "      <th>608</th>\n",
              "      <td>bee gees</td>\n",
              "      <td>jive talkin'</td>\n",
              "      <td>its just your jive talkin eol youre telling me...</td>\n",
              "      <td>Bee_Gees_-_Jive_Talkin'.mid</td>\n",
              "    </tr>\n",
              "    <tr>\n",
              "      <th>609</th>\n",
              "      <td>bee gees</td>\n",
              "      <td>i just want to be your everything</td>\n",
              "      <td>for so long eol you and me been finding each o...</td>\n",
              "      <td>Bee_Gees_-_I_Just_Want_to_Be_Your_Everything.mid</td>\n",
              "    </tr>\n",
              "  </tbody>\n",
              "</table>\n",
              "<p>610 rows × 4 columns</p>\n",
              "</div>"
            ],
            "text/plain": [
              "              singer                               song  \\\n",
              "0         elton john                 candle in the wind   \n",
              "1     gerry rafferty                       baker street   \n",
              "2     gerry rafferty                right down the line   \n",
              "3        2 unlimited                       tribal dance   \n",
              "4        2 unlimited     let the beat control your body   \n",
              "..               ...                                ...   \n",
              "605      ace of base                  don't turn around   \n",
              "606  backstreet boys        i'll never break your heart   \n",
              "607  backstreet boys                   larger than life   \n",
              "608         bee gees                       jive talkin'   \n",
              "609         bee gees  i just want to be your everything   \n",
              "\n",
              "                                                lyrics  \\\n",
              "0    goodbye norma jean eol though i never knew you...   \n",
              "1    winding your way down on baker street eol lite...   \n",
              "2    you know i need your love eol youve got that h...   \n",
              "3    come on check it out yall eol come on come on ...   \n",
              "4    let the beat control your body eol let the bea...   \n",
              "..                                                 ...   \n",
              "605  if you want to leave eol i wont beg you to sta...   \n",
              "606  baby i know youre hurting eol right now you fe...   \n",
              "607  i may run and hide eol when youre screamin my ...   \n",
              "608  its just your jive talkin eol youre telling me...   \n",
              "609  for so long eol you and me been finding each o...   \n",
              "\n",
              "                                                  path  \n",
              "0                  Elton_John_-_Candle_in_the_Wind.mid  \n",
              "1                    Gerry_Rafferty_-_Baker_Street.mid  \n",
              "2             Gerry_Rafferty_-_Right_Down_the_Line.mid  \n",
              "3                       2_Unlimited_-_Tribal_Dance.mid  \n",
              "4     2_Unlimited_-_Let_the_Beat_Control_Your_Body.mid  \n",
              "..                                                 ...  \n",
              "605                Ace_of_Base_-_Don't_Turn_Around.mid  \n",
              "606  Backstreet_Boys_-_I'll_Never_Break_Your_Heart.mid  \n",
              "607             Backstreet_Boys_-_Larger_Than_Life.mid  \n",
              "608                        Bee_Gees_-_Jive_Talkin'.mid  \n",
              "609   Bee_Gees_-_I_Just_Want_to_Be_Your_Everything.mid  \n",
              "\n",
              "[610 rows x 4 columns]"
            ]
          },
          "execution_count": 26,
          "metadata": {},
          "output_type": "execute_result"
        }
      ],
      "source": [
        "train_df"
      ]
    },
    {
      "cell_type": "code",
      "execution_count": null,
      "metadata": {
        "id": "NX0ji2EeOCrD"
      },
      "outputs": [],
      "source": [
        "test_tokens = []\n",
        "test_df['lyrics'] = test_df.apply(lambda x: fix_lyrics(x[2]) , axis = 1, raw = True)\n",
        "test_df['lyrics'] = test_df.apply(lambda x: remove_non_ascii_words(x[2]) , axis = 1, raw = True)\n",
        "test_df['lyrics'] = test_df.apply(lambda x: tokenizer(x[2], test_tokens) , axis = 1, raw = True, result_type='expand')\n"
      ]
    },
    {
      "cell_type": "code",
      "execution_count": null,
      "metadata": {
        "id": "DOTpiSatOCrD"
      },
      "outputs": [],
      "source": [
        "test_tokens = Counter(test_tokens)"
      ]
    },
    {
      "cell_type": "markdown",
      "metadata": {
        "id": "u5op7eFwOCrD"
      },
      "source": [
        "## Create statistics"
      ]
    },
    {
      "cell_type": "code",
      "execution_count": null,
      "metadata": {
        "id": "sJkJIPZ4OCrE"
      },
      "outputs": [],
      "source": [
        "def lyrics_statistics(lyrics):\n",
        "    \"\"\"\n",
        "      Function to compute statistics about song lyrics, such as total word count, number of lines, average words per line, and the maximum line length.\n",
        "\n",
        "      Parameters:\n",
        "      lyrics (str): The song lyrics to analyze.\n",
        "\n",
        "      Returns:\n",
        "      tuple: A tuple containing the following statistics:\n",
        "          - song_len_per_words (int): The total number of words in the song.\n",
        "          - total_lines (int): The total number of lines in the song.\n",
        "          - average_words_per_line (float): The average number of words per line.\n",
        "          - max_line_len (int): The maximum number of words in a single line.\n",
        "    \"\"\"\n",
        "    line_len_per_words = []\n",
        "    split_lyrics = lyrics.split(' ')\n",
        "    line_len = 0\n",
        "    for token in split_lyrics:\n",
        "        if token != 'eol' and token != 'eos':\n",
        "            line_len += 1\n",
        "        else:\n",
        "            line_len_per_words.append(line_len)\n",
        "            line_len = 0\n",
        "    song_len_per_words = sum(line_len_per_words)\n",
        "    total_lines = len(line_len_per_words)\n",
        "    average_words_per_line = song_len_per_words / total_lines\n",
        "    max_line_len = max(line_len_per_words)\n",
        "    return song_len_per_words, total_lines, average_words_per_line, max_line_len\n"
      ]
    },
    {
      "cell_type": "code",
      "execution_count": null,
      "metadata": {
        "id": "rpzih9VqOCrE"
      },
      "outputs": [],
      "source": [
        "train_df[['total words','total lines','avg line','max line']] = train_df.apply(lambda x: lyrics_statistics(x[2]) , axis = 1, raw = True, result_type='expand')\n"
      ]
    },
    {
      "cell_type": "code",
      "execution_count": null,
      "metadata": {
        "id": "GBfWuiOsOCrE",
        "outputId": "c46cb3e5-1e72-412b-b828-779fcb52e7e5"
      },
      "outputs": [
        {
          "data": {
            "text/html": [
              "<div>\n",
              "<style scoped>\n",
              "    .dataframe tbody tr th:only-of-type {\n",
              "        vertical-align: middle;\n",
              "    }\n",
              "\n",
              "    .dataframe tbody tr th {\n",
              "        vertical-align: top;\n",
              "    }\n",
              "\n",
              "    .dataframe thead th {\n",
              "        text-align: right;\n",
              "    }\n",
              "</style>\n",
              "<table border=\"1\" class=\"dataframe\">\n",
              "  <thead>\n",
              "    <tr style=\"text-align: right;\">\n",
              "      <th></th>\n",
              "      <th>singer</th>\n",
              "      <th>song</th>\n",
              "      <th>lyrics</th>\n",
              "      <th>path</th>\n",
              "      <th>total words</th>\n",
              "      <th>total lines</th>\n",
              "      <th>avg line</th>\n",
              "      <th>max line</th>\n",
              "    </tr>\n",
              "  </thead>\n",
              "  <tbody>\n",
              "    <tr>\n",
              "      <th>0</th>\n",
              "      <td>elton john</td>\n",
              "      <td>candle in the wind</td>\n",
              "      <td>goodbye norma jean eol though i never knew you...</td>\n",
              "      <td>Elton_John_-_Candle_in_the_Wind.mid</td>\n",
              "      <td>300.0</td>\n",
              "      <td>50.0</td>\n",
              "      <td>6.000000</td>\n",
              "      <td>9.0</td>\n",
              "    </tr>\n",
              "    <tr>\n",
              "      <th>1</th>\n",
              "      <td>gerry rafferty</td>\n",
              "      <td>baker street</td>\n",
              "      <td>winding your way down on baker street eol lite...</td>\n",
              "      <td>Gerry_Rafferty_-_Baker_Street.mid</td>\n",
              "      <td>227.0</td>\n",
              "      <td>29.0</td>\n",
              "      <td>7.827586</td>\n",
              "      <td>13.0</td>\n",
              "    </tr>\n",
              "    <tr>\n",
              "      <th>2</th>\n",
              "      <td>gerry rafferty</td>\n",
              "      <td>right down the line</td>\n",
              "      <td>you know i need your love eol youve got that h...</td>\n",
              "      <td>Gerry_Rafferty_-_Right_Down_the_Line.mid</td>\n",
              "      <td>218.0</td>\n",
              "      <td>33.0</td>\n",
              "      <td>6.606061</td>\n",
              "      <td>13.0</td>\n",
              "    </tr>\n",
              "    <tr>\n",
              "      <th>3</th>\n",
              "      <td>2 unlimited</td>\n",
              "      <td>tribal dance</td>\n",
              "      <td>come on check it out yall eol come on come on ...</td>\n",
              "      <td>2_Unlimited_-_Tribal_Dance.mid</td>\n",
              "      <td>263.0</td>\n",
              "      <td>39.0</td>\n",
              "      <td>6.743590</td>\n",
              "      <td>11.0</td>\n",
              "    </tr>\n",
              "    <tr>\n",
              "      <th>4</th>\n",
              "      <td>2 unlimited</td>\n",
              "      <td>let the beat control your body</td>\n",
              "      <td>let the beat control your body eol let the bea...</td>\n",
              "      <td>2_Unlimited_-_Let_the_Beat_Control_Your_Body.mid</td>\n",
              "      <td>350.0</td>\n",
              "      <td>54.0</td>\n",
              "      <td>6.481481</td>\n",
              "      <td>10.0</td>\n",
              "    </tr>\n",
              "    <tr>\n",
              "      <th>...</th>\n",
              "      <td>...</td>\n",
              "      <td>...</td>\n",
              "      <td>...</td>\n",
              "      <td>...</td>\n",
              "      <td>...</td>\n",
              "      <td>...</td>\n",
              "      <td>...</td>\n",
              "      <td>...</td>\n",
              "    </tr>\n",
              "    <tr>\n",
              "      <th>605</th>\n",
              "      <td>ace of base</td>\n",
              "      <td>don't turn around</td>\n",
              "      <td>if you want to leave eol i wont beg you to sta...</td>\n",
              "      <td>Ace_of_Base_-_Don't_Turn_Around.mid</td>\n",
              "      <td>275.0</td>\n",
              "      <td>57.0</td>\n",
              "      <td>4.824561</td>\n",
              "      <td>8.0</td>\n",
              "    </tr>\n",
              "    <tr>\n",
              "      <th>606</th>\n",
              "      <td>backstreet boys</td>\n",
              "      <td>i'll never break your heart</td>\n",
              "      <td>baby i know youre hurting eol right now you fe...</td>\n",
              "      <td>Backstreet_Boys_-_I'll_Never_Break_Your_Heart.mid</td>\n",
              "      <td>272.0</td>\n",
              "      <td>44.0</td>\n",
              "      <td>6.181818</td>\n",
              "      <td>15.0</td>\n",
              "    </tr>\n",
              "    <tr>\n",
              "      <th>607</th>\n",
              "      <td>backstreet boys</td>\n",
              "      <td>larger than life</td>\n",
              "      <td>i may run and hide eol when youre screamin my ...</td>\n",
              "      <td>Backstreet_Boys_-_Larger_Than_Life.mid</td>\n",
              "      <td>222.0</td>\n",
              "      <td>35.0</td>\n",
              "      <td>6.342857</td>\n",
              "      <td>10.0</td>\n",
              "    </tr>\n",
              "    <tr>\n",
              "      <th>608</th>\n",
              "      <td>bee gees</td>\n",
              "      <td>jive talkin'</td>\n",
              "      <td>its just your jive talkin eol youre telling me...</td>\n",
              "      <td>Bee_Gees_-_Jive_Talkin'.mid</td>\n",
              "      <td>239.0</td>\n",
              "      <td>63.0</td>\n",
              "      <td>3.793651</td>\n",
              "      <td>7.0</td>\n",
              "    </tr>\n",
              "    <tr>\n",
              "      <th>609</th>\n",
              "      <td>bee gees</td>\n",
              "      <td>i just want to be your everything</td>\n",
              "      <td>for so long eol you and me been finding each o...</td>\n",
              "      <td>Bee_Gees_-_I_Just_Want_to_Be_Your_Everything.mid</td>\n",
              "      <td>257.0</td>\n",
              "      <td>27.0</td>\n",
              "      <td>9.518519</td>\n",
              "      <td>16.0</td>\n",
              "    </tr>\n",
              "  </tbody>\n",
              "</table>\n",
              "<p>610 rows × 8 columns</p>\n",
              "</div>"
            ],
            "text/plain": [
              "              singer                               song  \\\n",
              "0         elton john                 candle in the wind   \n",
              "1     gerry rafferty                       baker street   \n",
              "2     gerry rafferty                right down the line   \n",
              "3        2 unlimited                       tribal dance   \n",
              "4        2 unlimited     let the beat control your body   \n",
              "..               ...                                ...   \n",
              "605      ace of base                  don't turn around   \n",
              "606  backstreet boys        i'll never break your heart   \n",
              "607  backstreet boys                   larger than life   \n",
              "608         bee gees                       jive talkin'   \n",
              "609         bee gees  i just want to be your everything   \n",
              "\n",
              "                                                lyrics  \\\n",
              "0    goodbye norma jean eol though i never knew you...   \n",
              "1    winding your way down on baker street eol lite...   \n",
              "2    you know i need your love eol youve got that h...   \n",
              "3    come on check it out yall eol come on come on ...   \n",
              "4    let the beat control your body eol let the bea...   \n",
              "..                                                 ...   \n",
              "605  if you want to leave eol i wont beg you to sta...   \n",
              "606  baby i know youre hurting eol right now you fe...   \n",
              "607  i may run and hide eol when youre screamin my ...   \n",
              "608  its just your jive talkin eol youre telling me...   \n",
              "609  for so long eol you and me been finding each o...   \n",
              "\n",
              "                                                  path  total words  \\\n",
              "0                  Elton_John_-_Candle_in_the_Wind.mid        300.0   \n",
              "1                    Gerry_Rafferty_-_Baker_Street.mid        227.0   \n",
              "2             Gerry_Rafferty_-_Right_Down_the_Line.mid        218.0   \n",
              "3                       2_Unlimited_-_Tribal_Dance.mid        263.0   \n",
              "4     2_Unlimited_-_Let_the_Beat_Control_Your_Body.mid        350.0   \n",
              "..                                                 ...          ...   \n",
              "605                Ace_of_Base_-_Don't_Turn_Around.mid        275.0   \n",
              "606  Backstreet_Boys_-_I'll_Never_Break_Your_Heart.mid        272.0   \n",
              "607             Backstreet_Boys_-_Larger_Than_Life.mid        222.0   \n",
              "608                        Bee_Gees_-_Jive_Talkin'.mid        239.0   \n",
              "609   Bee_Gees_-_I_Just_Want_to_Be_Your_Everything.mid        257.0   \n",
              "\n",
              "     total lines  avg line  max line  \n",
              "0           50.0  6.000000       9.0  \n",
              "1           29.0  7.827586      13.0  \n",
              "2           33.0  6.606061      13.0  \n",
              "3           39.0  6.743590      11.0  \n",
              "4           54.0  6.481481      10.0  \n",
              "..           ...       ...       ...  \n",
              "605         57.0  4.824561       8.0  \n",
              "606         44.0  6.181818      15.0  \n",
              "607         35.0  6.342857      10.0  \n",
              "608         63.0  3.793651       7.0  \n",
              "609         27.0  9.518519      16.0  \n",
              "\n",
              "[610 rows x 8 columns]"
            ]
          },
          "execution_count": 31,
          "metadata": {},
          "output_type": "execute_result"
        }
      ],
      "source": [
        "train_df"
      ]
    },
    {
      "cell_type": "code",
      "execution_count": null,
      "metadata": {
        "id": "qgaP3VaTOCrE",
        "outputId": "3558450e-125c-4009-a957-c3f3f12d05e7"
      },
      "outputs": [
        {
          "data": {
            "text/plain": [
              "total words    259.688525\n",
              "total lines     39.457377\n",
              "avg line         7.796745\n",
              "max line        12.270492\n",
              "dtype: float64"
            ]
          },
          "execution_count": 32,
          "metadata": {},
          "output_type": "execute_result"
        }
      ],
      "source": [
        "train_df[['total words','total lines','avg line','max line']].sum()/len(train_df)"
      ]
    },
    {
      "cell_type": "code",
      "execution_count": null,
      "metadata": {
        "id": "nSuONl1EOCrE",
        "outputId": "47f5184c-9ed6-4eb4-c12e-25f812aff666"
      },
      "outputs": [
        {
          "name": "stderr",
          "output_type": "stream",
          "text": [
            "/tmp/ipykernel_1290211/2315440790.py:1: FutureWarning: Series.__getitem__ treating keys as positions is deprecated. In a future version, integer keys will always be treated as labels (consistent with DataFrame behavior). To access a value by position, use `ser.iloc[pos]`\n",
            "  test_df[['total words','total lines','avg line','max line']] = train_df[['total words','total lines','avg line','max line']].sum()/len(train_df)\n",
            "/tmp/ipykernel_1290211/2315440790.py:1: FutureWarning: Series.__getitem__ treating keys as positions is deprecated. In a future version, integer keys will always be treated as labels (consistent with DataFrame behavior). To access a value by position, use `ser.iloc[pos]`\n",
            "  test_df[['total words','total lines','avg line','max line']] = train_df[['total words','total lines','avg line','max line']].sum()/len(train_df)\n",
            "/tmp/ipykernel_1290211/2315440790.py:1: FutureWarning: Series.__getitem__ treating keys as positions is deprecated. In a future version, integer keys will always be treated as labels (consistent with DataFrame behavior). To access a value by position, use `ser.iloc[pos]`\n",
            "  test_df[['total words','total lines','avg line','max line']] = train_df[['total words','total lines','avg line','max line']].sum()/len(train_df)\n",
            "/tmp/ipykernel_1290211/2315440790.py:1: FutureWarning: Series.__getitem__ treating keys as positions is deprecated. In a future version, integer keys will always be treated as labels (consistent with DataFrame behavior). To access a value by position, use `ser.iloc[pos]`\n",
            "  test_df[['total words','total lines','avg line','max line']] = train_df[['total words','total lines','avg line','max line']].sum()/len(train_df)\n"
          ]
        }
      ],
      "source": [
        "test_df[['total words','total lines','avg line','max line']] = train_df[['total words','total lines','avg line','max line']].sum()/len(train_df)"
      ]
    },
    {
      "cell_type": "code",
      "execution_count": null,
      "metadata": {
        "id": "iDFTMFBoOCrE",
        "outputId": "bf147d49-c9c3-4785-8837-50360af480d0"
      },
      "outputs": [
        {
          "data": {
            "text/html": [
              "<div>\n",
              "<style scoped>\n",
              "    .dataframe tbody tr th:only-of-type {\n",
              "        vertical-align: middle;\n",
              "    }\n",
              "\n",
              "    .dataframe tbody tr th {\n",
              "        vertical-align: top;\n",
              "    }\n",
              "\n",
              "    .dataframe thead th {\n",
              "        text-align: right;\n",
              "    }\n",
              "</style>\n",
              "<table border=\"1\" class=\"dataframe\">\n",
              "  <thead>\n",
              "    <tr style=\"text-align: right;\">\n",
              "      <th></th>\n",
              "      <th>singer</th>\n",
              "      <th>song</th>\n",
              "      <th>lyrics</th>\n",
              "      <th>path</th>\n",
              "      <th>total words</th>\n",
              "      <th>total lines</th>\n",
              "      <th>avg line</th>\n",
              "      <th>max line</th>\n",
              "    </tr>\n",
              "  </thead>\n",
              "  <tbody>\n",
              "    <tr>\n",
              "      <th>0</th>\n",
              "      <td>the bangles</td>\n",
              "      <td>eternal flame</td>\n",
              "      <td>close your eyes give me your hand darling eol ...</td>\n",
              "      <td>The_Bangles_-_Eternal_Flame.mid</td>\n",
              "      <td>259.688525</td>\n",
              "      <td>39.457377</td>\n",
              "      <td>7.796745</td>\n",
              "      <td>12.270492</td>\n",
              "    </tr>\n",
              "    <tr>\n",
              "      <th>1</th>\n",
              "      <td>billy joel</td>\n",
              "      <td>honesty</td>\n",
              "      <td>if you search for tenderness eol it isnt hard ...</td>\n",
              "      <td>Billy_Joel_-_Honesty.mid</td>\n",
              "      <td>259.688525</td>\n",
              "      <td>39.457377</td>\n",
              "      <td>7.796745</td>\n",
              "      <td>12.270492</td>\n",
              "    </tr>\n",
              "    <tr>\n",
              "      <th>2</th>\n",
              "      <td>cardigans</td>\n",
              "      <td>lovefool</td>\n",
              "      <td>dear i fear were facing a problem eol you love...</td>\n",
              "      <td>Cardigans_-_Lovefool.mid</td>\n",
              "      <td>259.688525</td>\n",
              "      <td>39.457377</td>\n",
              "      <td>7.796745</td>\n",
              "      <td>12.270492</td>\n",
              "    </tr>\n",
              "    <tr>\n",
              "      <th>3</th>\n",
              "      <td>aqua</td>\n",
              "      <td>barbie girl</td>\n",
              "      <td>hiya barbie eol hi ken eol do you want to go f...</td>\n",
              "      <td>Aqua_-_Barbie_Girl.mid</td>\n",
              "      <td>259.688525</td>\n",
              "      <td>39.457377</td>\n",
              "      <td>7.796745</td>\n",
              "      <td>12.270492</td>\n",
              "    </tr>\n",
              "    <tr>\n",
              "      <th>4</th>\n",
              "      <td>blink 182</td>\n",
              "      <td>all the small things</td>\n",
              "      <td>all the small things eol true care truth bring...</td>\n",
              "      <td>Blink_182_-_All_the_Small_Things.mid</td>\n",
              "      <td>259.688525</td>\n",
              "      <td>39.457377</td>\n",
              "      <td>7.796745</td>\n",
              "      <td>12.270492</td>\n",
              "    </tr>\n",
              "  </tbody>\n",
              "</table>\n",
              "</div>"
            ],
            "text/plain": [
              "        singer                  song  \\\n",
              "0  the bangles         eternal flame   \n",
              "1   billy joel               honesty   \n",
              "2    cardigans              lovefool   \n",
              "3         aqua           barbie girl   \n",
              "4    blink 182  all the small things   \n",
              "\n",
              "                                              lyrics  \\\n",
              "0  close your eyes give me your hand darling eol ...   \n",
              "1  if you search for tenderness eol it isnt hard ...   \n",
              "2  dear i fear were facing a problem eol you love...   \n",
              "3  hiya barbie eol hi ken eol do you want to go f...   \n",
              "4  all the small things eol true care truth bring...   \n",
              "\n",
              "                                   path  total words  total lines  avg line  \\\n",
              "0       The_Bangles_-_Eternal_Flame.mid   259.688525    39.457377  7.796745   \n",
              "1              Billy_Joel_-_Honesty.mid   259.688525    39.457377  7.796745   \n",
              "2              Cardigans_-_Lovefool.mid   259.688525    39.457377  7.796745   \n",
              "3                Aqua_-_Barbie_Girl.mid   259.688525    39.457377  7.796745   \n",
              "4  Blink_182_-_All_the_Small_Things.mid   259.688525    39.457377  7.796745   \n",
              "\n",
              "    max line  \n",
              "0  12.270492  \n",
              "1  12.270492  \n",
              "2  12.270492  \n",
              "3  12.270492  \n",
              "4  12.270492  "
            ]
          },
          "execution_count": 34,
          "metadata": {},
          "output_type": "execute_result"
        }
      ],
      "source": [
        "test_df"
      ]
    },
    {
      "cell_type": "code",
      "execution_count": null,
      "metadata": {
        "id": "OJ5oJhPeOCrE",
        "outputId": "385e8863-8478-4ce0-bb27-2060e44e9fbb"
      },
      "outputs": [
        {
          "data": {
            "image/png": "[encoded data removed]",
            "text/plain": [
              "<Figure size 1400x1000 with 4 Axes>"
            ]
          },
          "metadata": {},
          "output_type": "display_data"
        }
      ],
      "source": [
        "x_axes = range(len(train_df))\n",
        "fig, axs = plt.subplots(2, 2, figsize=(14, 10))\n",
        "\n",
        "\n",
        "# # Plotting on each subplot\n",
        "sns.histplot(data=train_df, x=\"total words\", kde=True, ax=axs[0, 0])\n",
        "axs[0, 0].set_title(\"Distribution of Song Length (per words)\")\n",
        "axs[0, 0].set_xlabel(\"Song Length (words)\")\n",
        "\n",
        "sns.histplot(data=train_df, x=\"total lines\", kde=True, ax=axs[0, 1])\n",
        "axs[0, 1].set_title(\"Distribution of Song Length (per lines)\")\n",
        "axs[0, 1].set_xlabel(\"Song Length (lines)\")\n",
        "\n",
        "sns.histplot(data=train_df, x=\"avg line\", kde=True, ax=axs[1, 0])\n",
        "axs[1, 0].set_title(\"Distribution of Average Line Length (per words)\")\n",
        "axs[1, 0].set_xlabel(\"Average Line Length (words)\")\n",
        "\n",
        "sns.histplot(data=train_df, x=\"max line\", kde=True, ax=axs[1, 1])\n",
        "axs[1, 1].set_title(\"Distribution of Maximum Line Length (per words)\")\n",
        "axs[1, 1].set_title(\"Maximum Line Length words)\")\n",
        "\n",
        "plt.tight_layout()\n",
        "plt.show()"
      ]
    },
    {
      "cell_type": "markdown",
      "metadata": {
        "id": "lOUFYNW2OCrH"
      },
      "source": [
        "Singer statistics (we will use it for validation purpose)"
      ]
    },
    {
      "cell_type": "code",
      "execution_count": null,
      "metadata": {
        "id": "9FjUQKQUOCrH"
      },
      "outputs": [],
      "source": [
        "grouped_singer = train_df.groupby('singer').count()"
      ]
    },
    {
      "cell_type": "code",
      "execution_count": null,
      "metadata": {
        "id": "b-AJpIE0OCrH"
      },
      "outputs": [],
      "source": [
        "grouped_singer = grouped_singer.sort_values(by=['song'], ascending=False)"
      ]
    },
    {
      "cell_type": "code",
      "execution_count": null,
      "metadata": {
        "id": "ycELpEegOCrH",
        "outputId": "8a1201b5-9da6-4cba-92cf-f66d5ad1eb73"
      },
      "outputs": [
        {
          "data": {
            "text/plain": [
              "singer\n",
              "the eagles          24\n",
              "the corrs           24\n",
              "christmas carols    23\n",
              "billy joel          19\n",
              "genesis             18\n",
              "bee gees            15\n",
              "backstreet boys     15\n",
              "the carpenters      13\n",
              "abba                11\n",
              "eminem              10\n",
              "boyzone              9\n",
              "britney spears       9\n",
              "billy idol           8\n",
              "bread                8\n",
              "cyndi lauper         7\n",
              "Name: song, dtype: int64"
            ]
          },
          "execution_count": 38,
          "metadata": {},
          "output_type": "execute_result"
        }
      ],
      "source": [
        "top_15_singers = grouped_singer.head(15)\n",
        "top_15_singers[\"song\"]"
      ]
    },
    {
      "cell_type": "markdown",
      "metadata": {
        "id": "lAL64L2eOCrH"
      },
      "source": [
        "We will split our training data into: short songs, average song, long song (determine by the word number in the song)"
      ]
    },
    {
      "cell_type": "code",
      "execution_count": null,
      "metadata": {
        "id": "36PP8gS8OCrH",
        "outputId": "b5aaa128-a24c-450f-f415-b9485f2401ea"
      },
      "outputs": [
        {
          "data": {
            "text/plain": [
              "count     610.000000\n",
              "mean      259.688525\n",
              "std       146.023025\n",
              "min         7.000000\n",
              "25%       171.000000\n",
              "50%       236.000000\n",
              "75%       304.000000\n",
              "max      1347.000000\n",
              "Name: total words, dtype: float64"
            ]
          },
          "execution_count": 39,
          "metadata": {},
          "output_type": "execute_result"
        }
      ],
      "source": [
        "train_df['total words'].describe()"
      ]
    },
    {
      "cell_type": "code",
      "execution_count": null,
      "metadata": {
        "id": "hNC4tpNROCrH"
      },
      "outputs": [],
      "source": [
        "# Define bins and labels\n",
        "bins = [0, 172,  305, 1348]\n",
        "labels = ['short', 'mid', 'long']\n",
        "\n",
        "# Cut the 'total words' column into bins and assign labels\n",
        "train_df['song cat'] = pd.cut(train_df['total words'], bins=bins, labels=labels, right=False)\n",
        "test_df['song cat'] = '-'\n"
      ]
    },
    {
      "cell_type": "code",
      "execution_count": null,
      "metadata": {
        "id": "w4nTnvcEOCrH",
        "outputId": "f3bf7ed3-5c3a-48f9-f4ff-0e8c487d660b"
      },
      "outputs": [
        {
          "data": {
            "image/png": "[encoded data removed]",
            "text/plain": [
              "<Figure size 800x600 with 1 Axes>"
            ]
          },
          "metadata": {},
          "output_type": "display_data"
        }
      ],
      "source": [
        "# Calculate counts for each category\n",
        "counts = train_df['song cat'].value_counts()\n",
        "\n",
        "# Plotting a pie chart using matplotlib\n",
        "plt.figure(figsize=(8, 6))\n",
        "plt.title('Distribution of Song Length')\n",
        "plt.pie(counts, labels=counts.index, autopct='%1.1f%%', startangle=140)\n",
        "plt.axis('equal')  # Equal aspect ratio ensures that pie is drawn as a circle.\n",
        "plt.show()"
      ]
    },
    {
      "cell_type": "markdown",
      "metadata": {
        "id": "4vxg3CTzOCrI"
      },
      "source": [
        "When we will split to train $ validation we would like to keep this balnced."
      ]
    },
    {
      "cell_type": "markdown",
      "metadata": {
        "id": "7fUejhb-OCrI"
      },
      "source": [
        "## Word2Vec"
      ]
    },
    {
      "cell_type": "markdown",
      "metadata": {
        "id": "kmtGCOf1OCrI"
      },
      "source": [
        "Now, we want to train word2vec model, For this purpose we took dataset of lyrics sothat our word2vec fit to our task.\n",
        "We going to use the same preprocess as we used on the train dataset."
      ]
    },
    {
      "cell_type": "markdown",
      "metadata": {
        "id": "YBi7t0MBOCrI"
      },
      "source": [
        "[Data Set](https://www.kaggle.com/datasets/paulinechaumeron/lyrics2music?select=mood_data_balanced.csv)"
      ]
    },
    {
      "cell_type": "code",
      "execution_count": null,
      "metadata": {
        "id": "-y-m0GpVOCrI"
      },
      "outputs": [],
      "source": [
        "word2vec = gensim.downloader.load('word2vec-google-news-300')"
      ]
    },
    {
      "cell_type": "code",
      "execution_count": null,
      "metadata": {
        "id": "Bq1ETpQfOCrI",
        "outputId": "b31ae1d4-c27f-4512-8793-1e57d5e72a95"
      },
      "outputs": [
        {
          "name": "stdout",
          "output_type": "stream",
          "text": [
            "[ 1.07421875e-01 -2.01171875e-01  1.23046875e-01  2.11914062e-01\n",
            " -9.13085938e-02  2.16796875e-01 -1.31835938e-01  8.30078125e-02\n",
            "  2.02148438e-01  4.78515625e-02  3.66210938e-02 -2.45361328e-02\n",
            "  2.39257812e-02 -1.60156250e-01 -2.61230469e-02  9.71679688e-02\n",
            " -6.34765625e-02  1.84570312e-01  1.70898438e-01 -1.63085938e-01\n",
            " -1.09375000e-01  1.49414062e-01 -4.65393066e-04  9.61914062e-02\n",
            "  1.68945312e-01  2.60925293e-03  8.93554688e-02  6.49414062e-02\n",
            "  3.56445312e-02 -6.93359375e-02 -1.46484375e-01 -1.21093750e-01\n",
            " -2.27539062e-01  2.45361328e-02 -1.24511719e-01 -3.18359375e-01\n",
            " -2.20703125e-01  1.30859375e-01  3.66210938e-02 -3.63769531e-02\n",
            " -1.13281250e-01  1.95312500e-01  9.76562500e-02  1.26953125e-01\n",
            "  6.59179688e-02  6.93359375e-02  1.02539062e-02  1.75781250e-01\n",
            " -1.68945312e-01  1.21307373e-03 -2.98828125e-01 -1.15234375e-01\n",
            "  5.66406250e-02 -1.77734375e-01 -2.08984375e-01  1.76757812e-01\n",
            "  2.38037109e-02 -2.57812500e-01 -4.46777344e-02  1.88476562e-01\n",
            "  5.51757812e-02  5.02929688e-02 -1.06933594e-01  1.89453125e-01\n",
            " -1.16210938e-01  8.49609375e-02 -1.71875000e-01  2.45117188e-01\n",
            " -1.73828125e-01 -8.30078125e-03  4.56542969e-02 -1.61132812e-02\n",
            "  1.86523438e-01 -6.05468750e-02 -4.17480469e-02  1.82617188e-01\n",
            "  2.20703125e-01 -1.22558594e-01 -2.55126953e-02 -3.08593750e-01\n",
            "  9.13085938e-02  1.60156250e-01  1.70898438e-01  1.19628906e-01\n",
            "  7.08007812e-02 -2.64892578e-02 -3.08837891e-02  4.06250000e-01\n",
            " -1.01562500e-01  5.71289062e-02 -7.26318359e-03 -9.17968750e-02\n",
            " -1.50390625e-01 -2.55859375e-01  2.16796875e-01 -3.63769531e-02\n",
            "  2.24609375e-01  8.00781250e-02  1.56250000e-01  5.27343750e-02\n",
            "  1.50390625e-01 -1.14746094e-01 -8.64257812e-02  1.19140625e-01\n",
            " -7.17773438e-02  2.73437500e-01 -1.64062500e-01  7.29370117e-03\n",
            "  4.21875000e-01 -1.12792969e-01 -1.35742188e-01 -1.31835938e-01\n",
            " -1.37695312e-01 -7.66601562e-02  6.25000000e-02  4.98046875e-02\n",
            " -1.91406250e-01 -6.03027344e-02  2.27539062e-01  5.88378906e-02\n",
            " -3.24218750e-01  5.41992188e-02 -1.35742188e-01  8.17871094e-03\n",
            " -5.24902344e-02 -1.74713135e-03 -9.81445312e-02 -2.86865234e-02\n",
            "  3.61328125e-02  2.15820312e-01  5.98144531e-02 -3.08593750e-01\n",
            " -2.27539062e-01  2.61718750e-01  9.86328125e-02 -5.07812500e-02\n",
            "  1.78222656e-02  1.31835938e-01 -5.35156250e-01 -1.81640625e-01\n",
            "  1.38671875e-01 -3.10546875e-01 -9.71679688e-02  1.31835938e-01\n",
            " -1.16210938e-01  7.03125000e-02  2.85156250e-01  3.51562500e-02\n",
            " -1.01562500e-01 -3.75976562e-02  1.41601562e-01  1.42578125e-01\n",
            " -5.68847656e-02  2.65625000e-01 -2.09960938e-01  9.64355469e-03\n",
            " -6.68945312e-02 -4.83398438e-02 -6.10351562e-02  2.45117188e-01\n",
            " -9.66796875e-02  1.78222656e-02 -1.27929688e-01 -4.78515625e-02\n",
            " -7.26318359e-03  1.79687500e-01  2.78320312e-02 -2.10937500e-01\n",
            " -1.43554688e-01 -1.27929688e-01  1.73339844e-02 -3.60107422e-03\n",
            " -2.04101562e-01  3.63159180e-03 -1.19628906e-01 -6.15234375e-02\n",
            "  5.93261719e-02 -3.23486328e-03 -1.70898438e-01 -3.14941406e-02\n",
            " -8.88671875e-02 -2.89062500e-01  3.44238281e-02 -1.87500000e-01\n",
            "  2.94921875e-01  1.58203125e-01 -1.19628906e-01  7.61718750e-02\n",
            "  6.39648438e-02 -4.68750000e-02 -6.83593750e-02  1.21459961e-02\n",
            " -1.44531250e-01  4.54101562e-02  3.68652344e-02  3.88671875e-01\n",
            "  1.45507812e-01 -2.55859375e-01 -4.46777344e-02 -1.33789062e-01\n",
            " -1.38671875e-01  6.59179688e-02  1.37695312e-01  1.14746094e-01\n",
            "  2.03125000e-01 -4.78515625e-02  1.80664062e-02 -8.54492188e-02\n",
            " -2.48046875e-01 -3.39843750e-01 -2.83203125e-02  1.05468750e-01\n",
            " -2.14843750e-01 -8.74023438e-02  7.12890625e-02  1.87500000e-01\n",
            " -1.12304688e-01  2.73437500e-01 -3.26171875e-01 -1.77734375e-01\n",
            " -4.24804688e-02 -2.69531250e-01  6.64062500e-02 -6.88476562e-02\n",
            " -1.99218750e-01 -7.03125000e-02 -2.43164062e-01 -3.66210938e-02\n",
            " -7.37304688e-02 -1.77734375e-01  9.17968750e-02 -1.25000000e-01\n",
            " -1.65039062e-01 -3.57421875e-01 -2.85156250e-01 -1.66992188e-01\n",
            "  1.97265625e-01 -1.53320312e-01  2.31933594e-02  2.06054688e-01\n",
            "  1.80664062e-01 -2.74658203e-02 -1.92382812e-01 -9.61914062e-02\n",
            " -1.06811523e-02 -4.73632812e-02  6.54296875e-02 -1.25732422e-02\n",
            "  1.78222656e-02 -8.00781250e-02 -2.59765625e-01  9.37500000e-02\n",
            " -7.81250000e-02  4.68750000e-02 -2.22167969e-02  1.86767578e-02\n",
            "  3.11279297e-02  1.04980469e-02 -1.69921875e-01  2.58789062e-02\n",
            " -3.41796875e-02 -1.44042969e-02 -5.46875000e-02 -8.78906250e-02\n",
            "  1.96838379e-03  2.23632812e-01 -1.36718750e-01  1.75781250e-01\n",
            " -1.63085938e-01  1.87500000e-01  3.44238281e-02 -5.63964844e-02\n",
            " -2.27689743e-05  4.27246094e-02  5.81054688e-02 -1.07910156e-01\n",
            " -3.88183594e-02 -2.69531250e-01  3.34472656e-02  9.81445312e-02\n",
            "  5.63964844e-02  2.23632812e-01 -5.49316406e-02  1.46484375e-01\n",
            "  5.93261719e-02 -2.19726562e-01  6.39648438e-02  1.66015625e-02\n",
            "  4.56542969e-02  3.26171875e-01 -3.80859375e-01  1.70898438e-01\n",
            "  5.66406250e-02 -1.04492188e-01  1.38671875e-01 -1.57226562e-01\n",
            "  3.23486328e-03 -4.80957031e-02 -2.48046875e-01 -6.20117188e-02]\n"
          ]
        }
      ],
      "source": [
        "word_vector = word2vec['computer']\n",
        "print(word_vector)"
      ]
    },
    {
      "cell_type": "code",
      "execution_count": null,
      "metadata": {
        "id": "so-_xiKEOCrI",
        "outputId": "33680db5-10d6-47c7-c229-7e5561ef06e0"
      },
      "outputs": [
        {
          "name": "stdout",
          "output_type": "stream",
          "text": [
            "['hello', 'its', 'me', 'eol', 'i', 'was', 'wondering', 'if', 'after', 'all', 'these', 'years', 'youd', 'like', 'to', 'meet', 'eol', 'to', 'go', 'over', 'everything', 'eol', 'they', 'say', 'that', 'times', 'supposed', 'to', 'heal', 'ya', 'eol', 'but', 'i', 'aint', 'done', 'much', 'healing', 'eol', 'hello', 'can', 'you', 'hear', 'me', 'eol', 'im', 'in', 'california', 'dreaming', 'about', 'who', 'we', 'used', 'to', 'be', 'eol', 'when', 'we', 'were', 'younger', 'and', 'free', 'eol', 'ive', 'forgotten', 'how', 'it', 'felt', 'before', 'the', 'world', 'fell', 'at', 'our', 'feet', 'eol', 'theres', 'such', 'a', 'difference', 'between', 'us', 'eol', 'and', 'a', 'million', 'miles', 'eol', 'hello', 'from', 'the', 'other', 'side', 'eol', 'i', 'mustve', 'called', 'a', 'thousand', 'times', 'eol', 'to', 'tell', 'you', 'im', 'sorry', 'eol', 'for', 'everything', 'that', 'ive', 'done', 'eol', 'but', 'when', 'i', 'call', 'you', 'never', 'eol', 'seem', 'to', 'be', 'home', 'eol', 'hello', 'from', 'the', 'outside', 'eol', 'at', 'least', 'i', 'can', 'say', 'that', 'ive', 'tried', 'eol', 'to', 'tell', 'you', 'im', 'sorry', 'eol', 'for', 'breaking', 'your', 'heart', 'eol', 'but', 'it', 'dont', 'matter', 'it', 'clearly', 'eol', 'doesnt', 'tear', 'you', 'apart', 'anymore', 'eol', 'hello', 'how', 'are', 'you', 'eol', 'its', 'so', 'typical', 'of', 'me', 'to', 'talk', 'about', 'myself', 'im', 'sorry', 'eol', 'i', 'hope', 'that', 'youre', 'well', 'eol', 'did', 'you', 'ever', 'make', 'it', 'out', 'of', 'that', 'town', 'eol', 'where', 'nothing', 'ever', 'happened', 'eol', 'its', 'no', 'secret', 'eol', 'that', 'the', 'both', 'of', 'us', 'eol', 'are', 'running', 'out', 'of', 'time', 'eol', 'so', 'hello', 'from', 'the', 'other', 'side', 'other', 'side', 'eol', 'i', 'mustve', 'called', 'a', 'thousand', 'times', 'thousand', 'times', 'eol', 'to', 'tell', 'you', 'im', 'sorry', 'eol', 'for', 'everything', 'that', 'ive', 'done', 'eol', 'but', 'when', 'i', 'call', 'you', 'never', 'eol', 'seem', 'to', 'be', 'home', 'eol', 'hello', 'from', 'the', 'outside', 'outside', 'eol', 'at', 'least', 'i', 'can', 'say', 'that', 'ive', 'tried', 'ive', 'tried', 'eol', 'to', 'tell', 'you', 'im', 'sorry', 'eol', 'for', 'breaking', 'your', 'heart', 'eol', 'but', 'it', 'dont', 'matter', 'it', 'clearly', 'eol', 'doesnt', 'tear', 'you', 'apart', 'anymore', 'eol', 'oh', 'anymore', 'eol', 'oh', 'anymore', 'eol', 'oh', 'anymore', 'eol', 'anymore', 'eol', 'hello', 'from', 'the', 'other', 'side', 'other', 'side', 'eol', 'i', 'mustve', 'called', 'a', 'thousand', 'times', 'thousand', 'times', 'eol', 'to', 'tell', 'you', 'im', 'sorry', 'eol', 'for', 'everything', 'that', 'ive', 'done', 'eol', 'but', 'when', 'i', 'call', 'you', 'never', 'eol', 'seem', 'to', 'be', 'home', 'eol', 'hello', 'from', 'the', 'outside', 'outside', 'eol', 'at', 'least', 'i', 'can', 'say', 'that', 'ive', 'tried', 'ive', 'tried', 'eol', 'to', 'tell', 'you', 'im', 'sorry', 'eol', 'for', 'breaking', 'your', 'heart', 'eol', 'but', 'it', 'dont', 'matter', 'it', 'clearly', 'eol', 'doesnt', 'tear', 'you', 'apart', 'anymore', 'eos']\n"
          ]
        },
        {
          "data": {
            "image/png": "[encoded data removed]",
            "text/plain": [
              "<Figure size 2500x800 with 1 Axes>"
            ]
          },
          "metadata": {},
          "output_type": "display_data"
        }
      ],
      "source": [
        "# Extract the 10th lyric from the DataFrame and split it into individual words\n",
        "keys = train_df['lyrics'][10].split(' ')\n",
        "print(keys)\n",
        "\n",
        "# Create a list of vectors for the words that are in the word2vec model\n",
        "vectors = [word2vec[w] for w in keys if w in word2vec]\n",
        "\n",
        "# Filter out words that are not in the word2vec model\n",
        "keys = [w for w in keys if w in word2vec]\n",
        "\n",
        "# Perform PCA to reduce the dimensions of the word vectors to 3\n",
        "pca = PCA(n_components=3)\n",
        "pcas = pca.fit_transform(vectors)\n",
        "\n",
        "# Create a 3D scatter plot of the PCA-transformed word vectors\n",
        "plt.figure(figsize=(25, 8))\n",
        "ax = plt.axes(projection='3d')\n",
        "ax.scatter(xs=pcas[:, 0], ys=pcas[:, 1], zs=pcas[:, 2], cmap='RdBu', c=range(pcas.shape[0]))\n",
        "\n",
        "# Annotate each point with the corresponding word\n",
        "for i, w in enumerate(keys):\n",
        "    ax.text(pcas[i, 0], pcas[i, 1], pcas[i, 2], w)\n",
        "\n",
        "plt.show()\n"
      ]
    },
    {
      "cell_type": "code",
      "execution_count": null,
      "metadata": {
        "id": "_Fyw3k8jOCrI"
      },
      "outputs": [],
      "source": [
        "train_test_corpus = all_tokens + test_tokens"
      ]
    },
    {
      "cell_type": "code",
      "execution_count": null,
      "metadata": {
        "id": "xOVxvR-YOCrI"
      },
      "outputs": [],
      "source": [
        "# Initialize an empty dictionary to map indices to words\n",
        "idx_to_word = {}\n",
        "\n",
        "# Initialize a counter to serve as the index\n",
        "i = 0\n",
        "\n",
        "# Iterate over each token in the corpus\n",
        "for token in train_test_corpus:\n",
        "    # Map the current index to the token\n",
        "    idx_to_word[i] = token\n",
        "    # Increment the index\n",
        "    i += 1\n",
        "\n",
        "# Add a special token for padding at the next index\n",
        "idx_to_word[i] = '<PAD>'\n"
      ]
    },
    {
      "cell_type": "code",
      "execution_count": null,
      "metadata": {
        "id": "XxWlPxCiOCrJ"
      },
      "outputs": [],
      "source": [
        "# Initialize a counter to serve as the index\n",
        "i = 0\n",
        "\n",
        "# Initialize an empty dictionary to map words to indices\n",
        "word_to_idx = {}\n",
        "\n",
        "# Iterate over each token in the corpus\n",
        "for token in train_test_corpus:\n",
        "    # Map the token to the current index\n",
        "    word_to_idx[token] = i\n",
        "    # Increment the index\n",
        "    i += 1\n",
        "\n",
        "# Add a special token for padding at the next index\n",
        "word_to_idx['<PAD>'] = i\n"
      ]
    },
    {
      "cell_type": "markdown",
      "metadata": {
        "id": "k47QuW8DOCrJ"
      },
      "source": [
        "## Dataest - Lyrics Only"
      ]
    },
    {
      "cell_type": "markdown",
      "metadata": {
        "id": "mlDtxmePOCrJ"
      },
      "source": [
        "Prmary data st, contain only lyrics without any additional information on midi files."
      ]
    },
    {
      "cell_type": "code",
      "execution_count": null,
      "metadata": {
        "id": "beN3p6uBOCrJ"
      },
      "outputs": [],
      "source": [
        "def convert_indices_to_words(tensor_of_indices, word_to_idx):\n",
        "    \"\"\"\n",
        "      Function to convert a tensor of indices to a string of corresponding words.\n",
        "\n",
        "      Parameters:\n",
        "      tensor_of_indices (Tensor): A tensor containing indices.\n",
        "      word_to_idx (dict): A dictionary mapping indices to words.\n",
        "\n",
        "      Returns:\n",
        "      str: A string of words corresponding to the indices in the tensor.\n",
        "    \"\"\"\n",
        "    list_of_words = []\n",
        "    for i in range(tensor_of_indices.shape[0]):\n",
        "        word_idx = tensor_of_indices[i].item()\n",
        "        list_of_words.append(word_to_idx[int(word_idx)])\n",
        "    return ' '.join(list_of_words)"
      ]
    },
    {
      "cell_type": "markdown",
      "metadata": {
        "id": "_ylaUVgjOCrJ"
      },
      "source": [
        "### BLEU Score"
      ]
    },
    {
      "cell_type": "code",
      "execution_count": null,
      "metadata": {
        "id": "ktIklOs4OCrJ"
      },
      "outputs": [],
      "source": [
        "smoothie = SmoothingFunction().method4\n",
        "\n",
        "def calculate_bleu(lyrics, output, smoothie = smoothie):\n",
        "    \"\"\"\n",
        "      Function to calculate the BLEU score between the reference lyrics and the generated output.\n",
        "\n",
        "      Parameters:\n",
        "      lyrics (str): The reference lyrics.\n",
        "      output (str): The generated output to be compared.\n",
        "      smoothie (function, optional): The smoothing function to use for BLEU score calculation. Defaults to SmoothingFunction().method4.\n",
        "\n",
        "      Returns:\n",
        "      float: The BLEU score between the reference lyrics and the generated output.\n",
        "    \"\"\"\n",
        "    # Tokenize reference and candidate sentences\n",
        "    lyrics_words = lyrics.split()\n",
        "    output_words = output.split()\n",
        "\n",
        "    # Compute BLEU score with smoothing function\n",
        "    bleu_score = sentence_bleu(lyrics_words, output_words, smoothing_function=smoothie)\n",
        "\n",
        "    return bleu_score"
      ]
    },
    {
      "cell_type": "markdown",
      "metadata": {
        "id": "pJVA9lzjOCrJ"
      },
      "source": [
        "## Midi Analsis - Model 1"
      ]
    },
    {
      "cell_type": "markdown",
      "metadata": {
        "id": "gTpiWROYOCrJ"
      },
      "source": [
        "### Train Set"
      ]
    },
    {
      "cell_type": "code",
      "execution_count": null,
      "metadata": {
        "id": "yMwydAZsOCrJ"
      },
      "outputs": [],
      "source": [
        "failed_files = []\n",
        "def analyze_midi(path):\n",
        "    \"\"\"\n",
        "      Function to analyze a MIDI file and extract its length, number of instruments, and tempo.\n",
        "\n",
        "      Parameters:\n",
        "      path (str): The relative path to the MIDI file.\n",
        "\n",
        "      Returns:\n",
        "      tuple: A tuple containing the file path, song length, number of instruments, and tempo. If the file fails to process, returns (path, 0.0, 0, 0.0).\n",
        "    \"\"\"\n",
        "    full_path = directory + '/' + path\n",
        "    try:\n",
        "        pm = pretty_midi.PrettyMIDI(full_path)\n",
        "        song_len = pm.get_end_time()\n",
        "        num_instrument = len(pm.instruments)\n",
        "        tempo = pm.estimate_tempo()\n",
        "        return path, song_len, num_instrument, tempo\n",
        "    except:\n",
        "        failed_files.append(path)\n",
        "        return path, 0.0, 0, 0.0\n"
      ]
    },
    {
      "cell_type": "code",
      "execution_count": null,
      "metadata": {
        "id": "nCzstV8MOCrJ"
      },
      "outputs": [],
      "source": [
        "results_df = train_df.apply(lambda x: analyze_midi(x[3]), axis=1, result_type='expand')\n",
        "results_df.columns = ['path', 'song_length', 'num_instruments', 'estimated_tempo']"
      ]
    },
    {
      "cell_type": "code",
      "execution_count": null,
      "metadata": {
        "id": "qoFQVTskOCrJ"
      },
      "outputs": [],
      "source": [
        "train_df = train_df.merge(results_df, on='path')"
      ]
    },
    {
      "cell_type": "code",
      "execution_count": null,
      "metadata": {
        "id": "nG5cDNkROCrJ",
        "outputId": "28583814-4126-4f59-d07a-ae187a70fabc"
      },
      "outputs": [
        {
          "data": {
            "text/plain": [
              "['Beastie_Boys_-_Girls.mid',\n",
              " 'Billy_Joel_-_Pressure.mid',\n",
              " 'Dan_Fogelberg_-_Leader_of_the_Band.mid',\n",
              " 'Brian_McKnight_-_On_The_Down_Low.mid',\n",
              " 'Aaron_Neville_-_Tell_It_Like_It_Is.mid',\n",
              " 'David_Bowie_-_Lazarus.mid',\n",
              " \"Billy_Joel_-_Movin'_Out.mid\"]"
            ]
          },
          "execution_count": 53,
          "metadata": {},
          "output_type": "execute_result"
        }
      ],
      "source": [
        "# now we will drop the files that failed while reading\n",
        "failed_files"
      ]
    },
    {
      "cell_type": "code",
      "execution_count": null,
      "metadata": {
        "id": "gZHLHpOTOCrJ"
      },
      "outputs": [],
      "source": [
        "train_df = train_df.loc[~train_df['path'].isin(failed_files)].reset_index().drop('index', axis=1)"
      ]
    },
    {
      "cell_type": "markdown",
      "metadata": {
        "id": "hR7dUOgBOCrJ"
      },
      "source": [
        "### Test Set"
      ]
    },
    {
      "cell_type": "code",
      "execution_count": null,
      "metadata": {
        "id": "uziv6lT3OCrJ",
        "outputId": "14ba7877-4908-469b-b7b2-948a04b6bf07"
      },
      "outputs": [
        {
          "name": "stderr",
          "output_type": "stream",
          "text": [
            "/tmp/ipykernel_1290211/2875472002.py:1: FutureWarning: Series.__getitem__ treating keys as positions is deprecated. In a future version, integer keys will always be treated as labels (consistent with DataFrame behavior). To access a value by position, use `ser.iloc[pos]`\n",
            "  results_df_test = test_df.apply(lambda x: analyze_midi(x[3]), axis=1, result_type='expand')\n"
          ]
        }
      ],
      "source": [
        "results_df_test = test_df.apply(lambda x: analyze_midi(x[3]), axis=1, result_type='expand')\n",
        "results_df_test.columns = ['path', 'song_length', 'num_instruments', 'estimated_tempo']"
      ]
    },
    {
      "cell_type": "code",
      "execution_count": null,
      "metadata": {
        "id": "2quf9mpYOCrK"
      },
      "outputs": [],
      "source": [
        "test_df = test_df.merge(results_df_test, on='path')"
      ]
    },
    {
      "cell_type": "markdown",
      "metadata": {
        "id": "yzxLTjqBOCrK"
      },
      "source": [
        "### Feature Creation"
      ]
    },
    {
      "cell_type": "markdown",
      "metadata": {
        "id": "nGUCDdJxOCrK"
      },
      "source": [
        "### Dataset"
      ]
    },
    {
      "cell_type": "code",
      "execution_count": null,
      "metadata": {
        "id": "MzjUp8MIOCrK"
      },
      "outputs": [],
      "source": [
        "def words_to_embed(lyrics, word2vec):\n",
        "    \"\"\"\n",
        "    Function to convert words from lyrics into their corresponding embeddings using a word2vec model.\n",
        "    Also tracks the positions of 'eol' tokens and collects new tokens.\n",
        "\n",
        "    Parameters:\n",
        "    lyrics (str): The lyrics to be processed.\n",
        "    word2vec (dict): A dictionary mapping words to their embeddings.\n",
        "\n",
        "    Returns:\n",
        "    tuple: A tuple containing:\n",
        "        - embed_list (list): A list of embeddings for the words found in word2vec.\n",
        "        - eol_list (list): A list of indices where 'eol' tokens were found.\n",
        "        - new_tokens (list): A list of tokens that were found in word2vec.\n",
        "    \"\"\"\n",
        "    splited = lyrics.split()\n",
        "    embed_list = []\n",
        "    eol_list = []\n",
        "    new_tokens = []\n",
        "    i = 0\n",
        "    for token in splited:\n",
        "        if token in word2vec and token != \"eol\":\n",
        "            embed_list.append(word2vec[token])\n",
        "            new_tokens.append(token)\n",
        "        elif token == 'eol':\n",
        "            eol_list.append(i)\n",
        "        i += 1\n",
        "    return embed_list, eol_list,new_tokens"
      ]
    },
    {
      "cell_type": "code",
      "execution_count": null,
      "metadata": {
        "id": "vdyQNQFcOCrK"
      },
      "outputs": [],
      "source": [
        "def lyrics_to_indices(lyrics, word2idx):\n",
        "    \"\"\"\n",
        "    Function to convert lyrics into a list of indices using a word-to-index mapping.\n",
        "\n",
        "    Parameters:\n",
        "    lyrics (str): The lyrics to be converted.\n",
        "    word2idx (dict): A dictionary mapping words to their corresponding indices.\n",
        "\n",
        "    Returns:\n",
        "    list: A list of indices corresponding to the words in the lyrics.\n",
        "    \"\"\"\n",
        "    indices = []\n",
        "    for token in lyrics:\n",
        "        if token != 'eol':\n",
        "            indices.append(word2idx[token])\n",
        "    return indices"
      ]
    },
    {
      "cell_type": "code",
      "execution_count": null,
      "metadata": {
        "id": "BdcfFEnlOCrK"
      },
      "outputs": [],
      "source": [
        "def indices_to_lyrics(indices, idx_to_word):\n",
        "    \"\"\"\n",
        "    Function to convert a list of indices back into lyrics using an index-to-word mapping.\n",
        "\n",
        "    Parameters:\n",
        "    indices (list): A list of indices to be converted.\n",
        "    idx_to_word (dict): A dictionary mapping indices to their corresponding words.\n",
        "\n",
        "    Returns:\n",
        "    list: A list of words corresponding to the indices.\n",
        "    \"\"\"\n",
        "    lyrics = []\n",
        "    for idx in indices:\n",
        "        lyrics.append(idx_to_word[idx])\n",
        "    return lyrics"
      ]
    },
    {
      "cell_type": "code",
      "execution_count": null,
      "metadata": {
        "id": "EFkVVdLWOCrK"
      },
      "outputs": [],
      "source": [
        "class SongsDatasetMidi(Dataset):\n",
        "    def __init__(self, songs_df, word2vec, word2idx, dir):\n",
        "        \"\"\"\n",
        "        Initializes the dataset with the provided DataFrame, word2vec model, word2idx dictionary, and directory.\n",
        "\n",
        "        Parameters:\n",
        "        songs_df (DataFrame): DataFrame containing song data.\n",
        "        word2vec (dict): Dictionary mapping words to their embeddings.\n",
        "        word2idx (dict): Dictionary mapping words to their indices.\n",
        "        dir (str): Directory containing the MIDI files.\n",
        "        \"\"\"\n",
        "        self.songs_df = songs_df\n",
        "        self.word2vec = word2vec\n",
        "        self.word2idx = word2idx\n",
        "        self.dir = dir\n",
        "\n",
        "    def __len__(self):\n",
        "        \"\"\"\n",
        "        Returns the total number of songs in the dataset.\n",
        "\n",
        "        Returns:\n",
        "        int: Number of songs in the dataset.\n",
        "        \"\"\"\n",
        "        return len(self.songs_df)\n",
        "\n",
        "    def __getitem__(self, idx):\n",
        "        \"\"\"\n",
        "        Retrieves the data for a single song at the given index.\n",
        "\n",
        "        Parameters:\n",
        "        idx (int): Index of the song to retrieve.\n",
        "\n",
        "        Returns:\n",
        "        tuple: A tuple containing input features, target indices, the first token, input lyrics, song name, and list of 'eol' positions.\n",
        "        \"\"\"\n",
        "        input_lyrics = self.songs_df.iloc[idx, 2]\n",
        "        song_name = self.songs_df.iloc[idx, 1]\n",
        "        original_lyrics = input_lyrics.split()\n",
        "        song_path = self.songs_df.iloc[idx, 3]\n",
        "        embed_lyrics, eol_list, tokens = words_to_embed(input_lyrics, self.word2vec)\n",
        "        embed_lyrics = torch.tensor(embed_lyrics, dtype=torch.float32)\n",
        "        total_words = len(embed_lyrics)\n",
        "        input_features = self.concat_midi_features(embed_lyrics, total_words, song_path)[:-1]\n",
        "        target = torch.tensor(lyrics_to_indices(tokens, self.word2idx), dtype=torch.long)\n",
        "        first_token = target[0]\n",
        "        return input_features, target[1:], first_token, input_lyrics, song_name, eol_list\n",
        "\n",
        "    def concat_midi_features(self, embed_lyrics, total_words, song_path):\n",
        "        \"\"\"\n",
        "        Concatenates MIDI features with lyrics embeddings.\n",
        "\n",
        "        Parameters:\n",
        "        embed_lyrics (Tensor): Tensor containing lyrics embeddings.\n",
        "        total_words (int): Total number of words in the lyrics.\n",
        "        song_path (str): Path to the MIDI file.\n",
        "\n",
        "        Returns:\n",
        "        Tensor: A tensor containing the concatenated features.\n",
        "        \"\"\"\n",
        "        full_path = self.dir + \"/\" + song_path\n",
        "        pm = pretty_midi.PrettyMIDI(full_path)\n",
        "        song_in_sec = pm.get_end_time()\n",
        "        time_per_word = song_in_sec / total_words\n",
        "        piano_matrix = pm.get_piano_roll(times=np.arange(0, song_in_sec, time_per_word)).transpose()\n",
        "        max_piano_val = np.max(piano_matrix) if np.max(piano_matrix) > 0 else 1  # Avoid division by zero\n",
        "        piano_matrix = piano_matrix / max_piano_val\n",
        "        chroma_matrix = pm.get_chroma(times=np.arange(0, song_in_sec, time_per_word)).transpose()\n",
        "        max_chroma = np.max(chroma_matrix) if np.max(chroma_matrix) > 0 else 1  # Avoid division by zero\n",
        "        chroma_matrix = chroma_matrix / max_chroma\n",
        "\n",
        "        final_embed = []\n",
        "        for i in range(int(total_words)):\n",
        "            chroma_for_token = torch.tensor(chroma_matrix[i], dtype=torch.float32)\n",
        "            piano_for_token = torch.tensor(piano_matrix[i], dtype=torch.float32)\n",
        "            combined_features = torch.cat((embed_lyrics[i], piano_for_token, chroma_for_token))\n",
        "            final_embed.append(combined_features)\n",
        "        return torch.stack(final_embed)"
      ]
    },
    {
      "cell_type": "code",
      "execution_count": null,
      "metadata": {
        "id": "r4dqt68BOCrK"
      },
      "outputs": [],
      "source": [
        "train_df = train_df.sort_values(by = ['total words'])"
      ]
    },
    {
      "cell_type": "code",
      "execution_count": null,
      "metadata": {
        "id": "GsY3660uOCrK"
      },
      "outputs": [],
      "source": [
        "full_dataset = SongsDatasetMidi(train_df, word2vec, word_to_idx, directory)\n",
        "test_dataset = SongsDatasetMidi(test_df, word2vec, word_to_idx, directory)"
      ]
    },
    {
      "cell_type": "code",
      "execution_count": null,
      "metadata": {
        "id": "X930Zwz5OCrK",
        "outputId": "a97b7f1d-1a0f-4679-89fd-78b6c33fa2af"
      },
      "outputs": [
        {
          "name": "stderr",
          "output_type": "stream",
          "text": [
            "/tmp/ipykernel_1290211/898772003.py:17: UserWarning: Creating a tensor from a list of numpy.ndarrays is extremely slow. Please consider converting the list to a single numpy.ndarray with numpy.array() before converting to a tensor. (Triggered internally at ../torch/csrc/utils/tensor_new.cpp:275.)\n",
            "  embed_lyrics = torch.tensor(embed_lyrics, dtype=torch.float32)\n"
          ]
        }
      ],
      "source": [
        "input_features, target, first_token, input_lyrics, song_name, eol_list = full_dataset[0]"
      ]
    },
    {
      "cell_type": "code",
      "execution_count": null,
      "metadata": {
        "id": "nLMEuq0mOCrK",
        "outputId": "8d0c41cb-cb15-4a4d-d4b1-dc9bdf7e7498"
      },
      "outputs": [
        {
          "data": {
            "text/plain": [
              "torch.Size([2])"
            ]
          },
          "execution_count": 64,
          "metadata": {},
          "output_type": "execute_result"
        }
      ],
      "source": [
        "target.shape"
      ]
    },
    {
      "cell_type": "code",
      "execution_count": null,
      "metadata": {
        "id": "nTS1sCUrOCrK"
      },
      "outputs": [],
      "source": [
        "# Create index list\n",
        "x = list(train_df.index)\n",
        "\n",
        "# Select features (lyrics) and target (song cat)\n",
        "y = train_df['lyrics'].values\n",
        "sratify = train_df['song cat'].values\n",
        "\n",
        "# Perform train-test split\n",
        "X_train, X_test, y_train, y_test = train_test_split(x, y, test_size=0.2, stratify=sratify, random_state=42)\n"
      ]
    },
    {
      "cell_type": "code",
      "execution_count": null,
      "metadata": {
        "id": "_t0Jla8TOCrK"
      },
      "outputs": [],
      "source": [
        "train_dataset = Subset(full_dataset, X_train)\n",
        "val_dataset = Subset(full_dataset, X_test)"
      ]
    },
    {
      "cell_type": "code",
      "execution_count": null,
      "metadata": {
        "id": "l8diUs9sOCrL"
      },
      "outputs": [],
      "source": [
        "class LSTM(nn.Module):\n",
        "    def __init__(self, input_size, hidden_size, vocab_size, num_layers=1, drop=0.4, batch_first=True, batch_norm = False):\n",
        "        \"\"\"\n",
        "        Initializes the LSTM model.\n",
        "\n",
        "        Parameters:\n",
        "        input_size (int): The number of input features.\n",
        "        hidden_size (int): The number of features in the hidden state.\n",
        "        vocab_size (int): The size of the vocabulary (number of classes for the output).\n",
        "        num_layers (int, optional): Number of recurrent layers. Default is 1.\n",
        "        drop (float, optional): Dropout probability. Default is 0.4.\n",
        "        batch_first (bool, optional): If True, the input and output tensors are provided as (batch, seq, feature). Default is True.\n",
        "        batch_norm (bool, optional): If True, batch normalization is applied. Default is False.\n",
        "        \"\"\"\n",
        "        super(LSTM, self).__init__()\n",
        "        # LSTM\n",
        "        self.lstm = nn.LSTM(input_size, hidden_size, num_layers, batch_first=batch_first)\n",
        "        # Batch normalization\n",
        "        self.batchnorm = nn.BatchNorm1d(hidden_size)\n",
        "        # Linear layer\n",
        "        self.linear1 = nn.Linear(hidden_size, vocab_size)\n",
        "        # Softmax Layer\n",
        "        self.softmax = nn.Softmax(dim=2)\n",
        "        # Dropout\n",
        "        self.dropout = nn.Dropout(drop)\n",
        "        self.batch_norm = batch_norm\n",
        "\n",
        "    def forward(self, input, hidden=None):\n",
        "        \"\"\"\n",
        "        Defines the forward pass of the model.\n",
        "\n",
        "        Parameters:\n",
        "        input (Tensor): The input tensor.\n",
        "        hidden (tuple, optional): The hidden state and cell state.\n",
        "\n",
        "        Returns:\n",
        "        tuple: A tuple containing the output tensor and the hidden state.\n",
        "        \"\"\"\n",
        "        output, hidden = self.lstm(input, hidden)\n",
        "        output = self.dropout(output)\n",
        "        output = self.linear1(output)\n",
        "        return output, hidden\n"
      ]
    },
    {
      "cell_type": "code",
      "execution_count": null,
      "metadata": {
        "id": "tNtr4vQtOCrL"
      },
      "outputs": [],
      "source": [
        "def test(model, loader, idx_to_word, run, criterion, name, last_epoch = False, val_dataloader = None):\n",
        "    \"\"\"\n",
        "    Function to evaluate the model on a given dataset loader.\n",
        "\n",
        "    Parameters:\n",
        "    model (nn.Module): The model to be tested.\n",
        "    loader (DataLoader): DataLoader for the dataset to be tested.\n",
        "    idx_to_word (dict): Dictionary mapping indices to words.\n",
        "    run (object): Object to log results (e.g., a logger or experiment tracking tool).\n",
        "    criterion (loss function): Loss function to calculate the loss.\n",
        "    name (str): Name of the phase (e.g., 'test' or 'validation').\n",
        "    last_epoch (bool, optional): Flag indicating if this is the last epoch. Default is False.\n",
        "    val_dataloader (DataLoader, optional): DataLoader for validation data. Default is None.\n",
        "\n",
        "    Returns:\n",
        "    None\n",
        "    \"\"\"\n",
        "    model.to(device)\n",
        "    softmax = nn.Softmax(dim=2)\n",
        "    model.eval()\n",
        "    loader_tqdm = tqdm(loader, desc=\"Training\", leave=False)\n",
        "    total_loss = 0\n",
        "    total_bleu = 0\n",
        "    names, original_lyrics, predicted_lyrics_complete, scores = [], [], [], []\n",
        "    for i, (input, target, first_token, lyrics, song_name, eol_list) in enumerate(loader_tqdm, 0):\n",
        "        input, target = input.to(device), target.to(device)\n",
        "        hidden = None\n",
        "        logits, hidden = model(input, hidden)\n",
        "        logits_flat = logits.view(-1, logits.size(-1))\n",
        "        target_flat = target.view(-1)\n",
        "        loss = criterion(logits_flat, target_flat)\n",
        "\n",
        "        eol_list_int = [t.item() for t in eol_list]\n",
        "        probs = softmax(logits)\n",
        "\n",
        "        # Post-processing for BLEU and other metrics\n",
        "        probs = probs.cpu().detach().numpy()\n",
        "        b_score = 0\n",
        "        for sample_idx in range(input.shape[0]):\n",
        "            predicted_lyrics = []\n",
        "            first_token = first_token[sample_idx]\n",
        "            sample_probs = probs[sample_idx]\n",
        "            samples = [np.random.choice(list(idx_to_word.keys()), p=p) for p in sample_probs]\n",
        "            new_sample = []\n",
        "            eol_count = 0\n",
        "            for i in range(len(samples)):\n",
        "                eol_idx = word_to_idx['eol']\n",
        "                if i + 1 + eol_count in eol_list_int:\n",
        "                    new_sample.extend([eol_idx, int(samples[i]) ])\n",
        "                    eol_count += 1\n",
        "                else:\n",
        "                    new_sample.append(samples[i])\n",
        "            names.append(song_name[sample_idx])\n",
        "            predicted_lyrics.append(first_token.item())\n",
        "            predicted_lyrics.extend(new_sample)\n",
        "            predicted_list = indices_to_lyrics(predicted_lyrics, idx_to_word)\n",
        "            predicted_lyrics_str = ' '.join(predicted_list)\n",
        "            original_lyrics.append(lyrics[0])\n",
        "            predicted_lyrics_complete.append(predicted_lyrics_str)\n",
        "            b_score += calculate_bleu(lyrics[0], predicted_lyrics_str)\n",
        "            scores.append(b_score)\n",
        "\n",
        "        run[f\"{name}/loss\"].append(loss.item())\n",
        "        run[f\"{name}/bleu\"].append(b_score)\n",
        "\n",
        "        loader_tqdm.set_postfix(loss=loss.item(), bleu=b_score)\n",
        "\n",
        "        total_loss += loss.item()\n",
        "        total_bleu += b_score\n",
        "\n",
        "\n",
        "    print(f\"Total {name} loss: {total_loss / len(loader)}, Total bleu score: {total_bleu / len(loader)}\")\n",
        "    if name == 'test' or last_epoch:\n",
        "    #log reports\n",
        "        cv = pd.DataFrame({\"song\": names, \"original lyrics\": original_lyrics, \"predicted lyrics\": predicted_lyrics_complete, 'score': scores})\n",
        "        run[f\"{name}/prediction_report\"].upload(File.as_html(cv))\n",
        "\n",
        "    loader_tqdm.close()\n",
        "\n"
      ]
    },
    {
      "cell_type": "code",
      "execution_count": null,
      "metadata": {
        "id": "LF101CP7OCrL"
      },
      "outputs": [],
      "source": [
        "def train(model, train_loader, epochs, idx_to_word, optimizer, run, criterion, val_dataloader, word_to_idx):\n",
        "    \"\"\"\n",
        "    Function to train the model.\n",
        "\n",
        "    Parameters:\n",
        "    model (nn.Module): The model to be trained.\n",
        "    train_loader (DataLoader): DataLoader for the training dataset.\n",
        "    epochs (int): Number of epochs to train the model.\n",
        "    idx_to_word (dict): Dictionary mapping indices to words.\n",
        "    optimizer (Optimizer): Optimizer for training the model.\n",
        "    run (object): Object to log results (e.g., a logger or experiment tracking tool).\n",
        "    criterion (loss function): Loss function to calculate the loss.\n",
        "    val_dataloader (DataLoader): DataLoader for the validation dataset.\n",
        "    word_to_idx (dict): Dictionary mapping words to their indices.\n",
        "\n",
        "    Returns:\n",
        "    nn.Module: The trained model.\n",
        "    \"\"\"\n",
        "    model.to(device)\n",
        "    softmax = nn.Softmax(dim=2)\n",
        "    for epoch in range(epochs):\n",
        "        model.train()\n",
        "        loader_tqdm = tqdm(train_loader, desc=\"Training\", leave=False)\n",
        "        total_loss = 0\n",
        "        total_bleu = 0\n",
        "        prev_loss = 1000000\n",
        "        not_improved = 0\n",
        "        names, original_lyrics, predicted_lyrics_complete, scores = [], [], [], []\n",
        "        for i, (input, target, first_token, lyrics, song_name, eol_list) in enumerate(loader_tqdm, 0):\n",
        "            input, target = input.to(device), target.to(device)\n",
        "            optimizer.zero_grad()\n",
        "            hidden = None\n",
        "            logits, hidden = model(input, hidden)\n",
        "            logits_flat = logits.view(-1, logits.size(-1))\n",
        "            target_flat = target.view(-1)\n",
        "            target_one_hot = F.one_hot(target,len(idx_to_word))\n",
        "            loss = criterion(logits_flat, target_flat)\n",
        "            loss.backward()\n",
        "            optimizer.step()\n",
        "            eol_list_int = [ t for t in eol_list[0]]\n",
        "            probs = softmax(logits)\n",
        "\n",
        "            # Post-processing for BLEU and other metrics\n",
        "            probs = probs.cpu().detach().numpy()\n",
        "            b_score = 0\n",
        "            for sample_idx in range(input.shape[0]):\n",
        "                predicted_lyrics = []\n",
        "                first_token = first_token[sample_idx]\n",
        "                sample_probs = probs[sample_idx]\n",
        "                samples = [np.random.choice(list(idx_to_word.keys()), p=p) for p in sample_probs]\n",
        "                new_sample = []\n",
        "                eol_count = 0\n",
        "                for i in range(len(samples)):\n",
        "                    eol_idx = word_to_idx['eol']\n",
        "                    if i + 1 + eol_count in eol_list_int:\n",
        "                        new_sample.extend([eol_idx, int(samples[i]) ])\n",
        "                        eol_count += 1\n",
        "                    else:\n",
        "                        new_sample.append(samples[i])\n",
        "                names.append(song_name[sample_idx])\n",
        "                predicted_lyrics.append(first_token.item())\n",
        "                predicted_lyrics.extend(new_sample)\n",
        "                predicted_list = indices_to_lyrics(predicted_lyrics, idx_to_word)\n",
        "                predicted_lyrics_str = ' '.join(predicted_list)\n",
        "                original_lyrics.append(lyrics[0])\n",
        "                predicted_lyrics_complete.append(predicted_lyrics_str)\n",
        "                b_score += calculate_bleu(lyrics[0], predicted_lyrics_str)\n",
        "                scores.append(b_score)\n",
        "            run[\"train/loss\"].append(loss.item())\n",
        "            run[\"train/bleu\"].append(b_score)\n",
        "\n",
        "            loader_tqdm.set_postfix(epoch=epoch, loss=loss.item(), bleu=b_score)\n",
        "\n",
        "            total_loss += loss.item()\n",
        "            total_bleu += b_score\n",
        "\n",
        "            if (loss.item() > prev_loss):\n",
        "                not_improved += 1\n",
        "            else:\n",
        "                not_improved = 0\n",
        "\n",
        "            if not_improved == 5:\n",
        "                run[\"final_epoch\"].append(epoch)\n",
        "                break\n",
        "\n",
        "\n",
        "        # Validation at the end of each epoch\n",
        "        test(model, val_dataloader, idx_to_word, run, criterion, name=\"val\", last_epoch=epoch == epochs - 1)\n",
        "\n",
        "        # Log and save results after the last epoch\n",
        "        print(len(names), len(original_lyrics), len(predicted_lyrics_complete), len(scores))\n",
        "\n",
        "\n",
        "        # if epoch == epochs - 1:\n",
        "        cv = pd.DataFrame({\"song\": names, \"original lyrics\": original_lyrics, \"predicted lyrics\": predicted_lyrics_complete, 'score': scores})\n",
        "        run[f\"train/prediction_report_{epoch}\"].upload(File.as_html(cv))\n",
        "\n",
        "    return model\n"
      ]
    },
    {
      "cell_type": "code",
      "execution_count": null,
      "metadata": {
        "id": "zzLjhpJqOCrM"
      },
      "outputs": [],
      "source": [
        "input_size = 440\n",
        "hidden_size = [8,64]\n",
        "layers = [1,2]\n",
        "vocab_size = len(idx_to_word)\n",
        "criterion = nn.CrossEntropyLoss()\n",
        "epochs = 20\n",
        "learning_rate = [0.001, 0.01]\n",
        "drop_out = [0.4, 0]\n",
        "size = 1\n",
        "norm = False\n",
        "train_dataloader = DataLoader(train_dataset, batch_size=size, num_workers=6, shuffle=False)\n",
        "val_dataloader = DataLoader(val_dataset, batch_size=size, num_workers=6, shuffle=False)\n",
        "test_dataloader = DataLoader(test_dataset, batch_size=size, num_workers=6, shuffle=False)\n",
        "for hidden in hidden_size:\n",
        "    for layer in layers:\n",
        "    for lr in learning_rate:\n",
        "        for drop in drop_out:\n",
        "\n",
        "            run = neptune.init_run(\n",
        "            name = f\"Midi1_batch size_{size}_lr_{lr}_dropout{drop}_bn_{norm}_hs{hidden_size}_l{layers}\",\n",
        "            project=\"sitri/song-generator\",\n",
        "            api_token=\"eyJhcGlfYWRkcmVzcyI6Imh0dHBzOi8vYXBwLm5lcHR1bmUuYWkiLCJhcGlfdXJsIjoiaHR0cHM6Ly9hcHAubmVwdHVuZS5haSIsImFwaV9rZXkiOiIwOGNjNWZlMS0yYzcwLTQ5MWUtYmQ2Zi03MTJiZGQwMjA0ZTIifQ==\",\n",
        "            )  # your credentials\n",
        "\n",
        "            params = {\"batch size\": size, \"learning_rate\": lr, \"optimizer\": \"Adam\", \"dropout\": drop, \"batch norm\":norm, \"epochs\": epochs, \"note\" : \"try\"}\n",
        "            print(params)\n",
        "            run[\"parameters\"] = params\n",
        "\n",
        "            model = LSTM(input_size, hidden_size, vocab_size, layers, drop=drop, batch_norm=norm)\n",
        "            optimizer = torch.optim.Adam(model.parameters(), lr=lr)\n",
        "            model = train(model, train_dataloader, epochs, idx_to_word, optimizer, run, criterion,val_dataloader, word_to_idx)\n",
        "            test(model, test_dataloader, idx_to_word, run, criterion, name=\"test\")\n",
        "\n",
        "            # Specify the path to save the checkpoint\n",
        "            checkpoint_path = f'{midi_dir}/Model1_bs_{size}_lr_{lr}_dropout{drop}bn_{norm}_epochs_{epochs}_hs{hidden_size}_l{layers}'\n",
        "\n",
        "            # Create a dictionary containing the model's state_dict and other information\n",
        "            checkpoint = {\n",
        "                'model_state_dict': model.state_dict(),\n",
        "                'optimizer_state_dict': optimizer.state_dict(),\n",
        "            }\n",
        "\n",
        "            # Save the checkpoint\n",
        "            torch.save(checkpoint, checkpoint_path)\n",
        "\n",
        "            run.stop()\n"
      ]
    },
    {
      "cell_type": "markdown",
      "metadata": {
        "id": "5p2DEMgWOCrM"
      },
      "source": [
        "## Midi Analsis - Model 2"
      ]
    },
    {
      "cell_type": "code",
      "execution_count": null,
      "metadata": {
        "id": "tS0g0CLJOCrN"
      },
      "outputs": [],
      "source": [
        "class SongsDatasetMidi2(Dataset):\n",
        "    def __init__(self, songs_df, word2vec, word2idx, dir):\n",
        "        \"\"\"\n",
        "          Initializes the dataset with the provided DataFrame, word2vec model, word2idx dictionary, and directory.\n",
        "\n",
        "          Parameters:\n",
        "          songs_df (DataFrame): DataFrame containing song data.\n",
        "          word2vec (dict): Dictionary mapping words to their embeddings.\n",
        "          word2idx (dict): Dictionary mapping words to their indices.\n",
        "          dir (str): Directory containing the MIDI files.\n",
        "        \"\"\"\n",
        "        self.songs_df = songs_df\n",
        "        self.word2vec = word2vec\n",
        "        self.word2idx = word2idx\n",
        "        self.dir = dir\n",
        "\n",
        "    def __len__(self):\n",
        "        \"\"\"\n",
        "          Returns the total number of songs in the dataset.\n",
        "\n",
        "          Returns:\n",
        "          int: Number of songs in the dataset.\n",
        "        \"\"\"\n",
        "        return len(self.songs_df)\n",
        "\n",
        "    def __getitem__(self, idx):\n",
        "        \"\"\"\n",
        "          Retrieves the data for a single song at the given index.\n",
        "\n",
        "          Parameters:\n",
        "          idx (int): Index of the song to retrieve.\n",
        "\n",
        "          Returns:\n",
        "          tuple: A tuple containing input features, target indices, the first token, input lyrics, song name, and list of 'eol' positions.\n",
        "        \"\"\"\n",
        "        input_lyrics = self.songs_df.iloc[idx, 2]\n",
        "        song_name = self.songs_df.iloc[idx, 1]\n",
        "        original_lyrics = input_lyrics.split()\n",
        "        song_path = self.songs_df.iloc[idx, 3]\n",
        "        song_length = self.songs_df.iloc[idx, 9]\n",
        "        num_instruments = self.songs_df.iloc[idx, 10]\n",
        "        estimated_tempo = self.songs_df.iloc[idx, 11]\n",
        "        embed_lyrics, eol_list, tokens = words_to_embed(input_lyrics, self.word2vec)\n",
        "        embed_lyrics = torch.tensor(embed_lyrics, dtype=torch.float32)\n",
        "        input_features = self.get_midi_features(embed_lyrics, song_path, song_length, num_instruments, estimated_tempo)[:-1]\n",
        "        target = torch.tensor(lyrics_to_indices(tokens, self.word2idx), dtype=torch.long)\n",
        "        first_token = target[0]\n",
        "        return input_features, target[1:], first_token, input_lyrics, song_name, eol_list\n",
        "\n",
        "    def get_midi_features(self, embed_lyrics, song_path, song_length, num_instruments, estimated_tempo):\n",
        "        \"\"\"\n",
        "          Concatenates MIDI features with lyrics embeddings.\n",
        "\n",
        "          Parameters:\n",
        "          embed_lyrics (Tensor): Tensor containing lyrics embeddings.\n",
        "          song_path (str): Path to the MIDI file.\n",
        "          song_length (float): Length of the song in seconds.\n",
        "          num_instruments (int): Number of instruments in the song.\n",
        "          estimated_tempo (float): Estimated tempo of the song.\n",
        "\n",
        "          Returns:\n",
        "          Tensor: A tensor containing the concatenated features.\n",
        "        \"\"\"\n",
        "        full_path = os.path.join(self.dir, song_path)\n",
        "        pm = pretty_midi.PrettyMIDI(full_path)\n",
        "\n",
        "        basics = np.array([song_length, num_instruments, estimated_tempo])\n",
        "        notes_distribution = pm.get_pitch_class_histogram().flatten()\n",
        "        count_tempo_changes = np.array([len(pm.get_tempo_changes())])\n",
        "\n",
        "        velocities = []\n",
        "        for inst in pm.instruments:\n",
        "            velocities.extend([note.velocity for note in inst.notes])\n",
        "        velocity_average = np.array([np.mean(velocities)])\n",
        "        velocities_std = np.array([np.std(velocities)])\n",
        "        beat_changes = np.array([len(pm.get_beats())])\n",
        "\n",
        "        combined_feature = np.concatenate([\n",
        "            basics, notes_distribution, count_tempo_changes, velocity_average,\n",
        "            velocities_std, beat_changes\n",
        "        ])\n",
        "\n",
        "        # Repeat combined_feature to match the number of time steps in embed_lyrics\n",
        "        combined_feature = np.tile(combined_feature, (embed_lyrics.size(0), 1))\n",
        "\n",
        "        # Concatenate along the last dimension\n",
        "        combined_feature = np.concatenate([combined_feature, embed_lyrics.numpy()], axis=1)\n",
        "\n",
        "        return torch.tensor(combined_feature, dtype=torch.float32)\n",
        "\n"
      ]
    },
    {
      "cell_type": "code",
      "execution_count": null,
      "metadata": {
        "id": "veeAqoYLOCrN"
      },
      "outputs": [],
      "source": [
        "full_dataset = SongsDatasetMidi2(train_df, word2vec, word_to_idx, directory)\n",
        "test_dataset = SongsDatasetMidi2(test_df, word2vec, word_to_idx, directory)"
      ]
    },
    {
      "cell_type": "code",
      "execution_count": null,
      "metadata": {
        "id": "hqk5-UKIOCrN"
      },
      "outputs": [],
      "source": [
        "# Create index list\n",
        "x = list(train_df.index)\n",
        "\n",
        "# Select features (lyrics) and target (song cat)\n",
        "y = train_df['lyrics'].values\n",
        "sratify = train_df['song cat'].values\n",
        "\n",
        "# Perform train-test split\n",
        "X_train, X_test, y_train, y_test = train_test_split(x, y, test_size=0.2, stratify=sratify, random_state=42)\n"
      ]
    },
    {
      "cell_type": "code",
      "execution_count": null,
      "metadata": {
        "id": "x8obTI1eOCrN"
      },
      "outputs": [],
      "source": [
        "train_dataset = Subset(full_dataset, X_train)\n",
        "val_dataset = Subset(full_dataset, X_test)"
      ]
    },
    {
      "cell_type": "code",
      "execution_count": null,
      "metadata": {
        "id": "R3XWceOoOCrN"
      },
      "outputs": [],
      "source": [
        "input_size = 319\n",
        "hidden_size = [8,64]\n",
        "layers = [1,2]\n",
        "vocab_size = len(idx_to_word)\n",
        "criterion = nn.CrossEntropyLoss()\n",
        "epochs = 20\n",
        "learning_rate = [0.001, 0.01]\n",
        "drop_out = [0, 0.4]\n",
        "\n",
        "size = 1\n",
        "norm = False\n",
        "\n",
        "train_dataloader = DataLoader(train_dataset, batch_size=size, num_workers=6, shuffle=False)\n",
        "val_dataloader = DataLoader(val_dataset, batch_size=size, num_workers=6, shuffle=False)\n",
        "test_dataloader = DataLoader(test_dataset, batch_size=size, num_workers=6, shuffle=False)\n",
        "for hidden in hidden_size:\n",
        "    for layer in layers:\n",
        "        for lr in learning_rate:\n",
        "            for drop in drop_out:\n",
        "                run = neptune.init_run(\n",
        "                name = f\"NEW_Midi2_batch size_{size}_lr_{lr}_dropout{drop}_bn_{norm}_hs{hidden_size}_l{layers}\",\n",
        "                project=\"sitri/song-generator\",\n",
        "                api_token=\"eyJhcGlfYWRkcmVzcyI6Imh0dHBzOi8vYXBwLm5lcHR1bmUuYWkiLCJhcGlfdXJsIjoiaHR0cHM6Ly9hcHAubmVwdHVuZS5haSIsImFwaV9rZXkiOiIwOGNjNWZlMS0yYzcwLTQ5MWUtYmQ2Zi03MTJiZGQwMjA0ZTIifQ==\",\n",
        "                )  # your credentials\n",
        "\n",
        "                params = {\"batch size\": size, \"learning_rate\": lr, \"optimizer\": \"Adam\", \"dropout\": drop, \"batch norm\":norm, \"epochs\": epochs, \"note\" : \"try\"}\n",
        "                print(params)\n",
        "                run[\"parameters\"] = params\n",
        "\n",
        "                model = LSTM(input_size, hidden_size, vocab_size, layers, drop=drop)\n",
        "                optimizer = torch.optim.Adam(model.parameters(), lr=lr)\n",
        "                model = train(model, train_dataloader, epochs, idx_to_word, optimizer, run, criterion,val_dataloader, word_to_idx)\n",
        "                test(model, test_dataloader, idx_to_word, run, criterion, name=\"test\")\n",
        "                # Specify the path to save the checkpoint\n",
        "                checkpoint_path = f'{midi_dir}/Model2_batch size_{size}_learning_rate_{lr}_optimizer_Adam_dropout{drop}batch_norm_{norm}_epochs_{epochs}'\n",
        "\n",
        "                # Create a dictionary containing the model's state_dict and other information\n",
        "                checkpoint = {\n",
        "                    'model_state_dict': model.state_dict(),\n",
        "                    'optimizer_state_dict': optimizer.state_dict(),\n",
        "                }\n",
        "\n",
        "                # Save the checkpoint\n",
        "                torch.save(checkpoint, checkpoint_path)\n",
        "                run.stop()\n"
      ]
    },
    {
      "cell_type": "markdown",
      "metadata": {
        "id": "Wy0ko8ezSqCK"
      },
      "source": [
        "## Seed the First Word"
      ]
    },
    {
      "cell_type": "code",
      "execution_count": null,
      "metadata": {
        "id": "CXW_cCx0OCrN"
      },
      "outputs": [],
      "source": [
        "def replace_first_token(lyrics, token):\n",
        "    \"\"\"\n",
        "      Replaces the first token of the given lyrics with the provided token.\n",
        "\n",
        "      Parameters:\n",
        "      lyrics (str): The original lyrics.\n",
        "      token (str): The token to replace the first word in the lyrics.\n",
        "\n",
        "      Returns:\n",
        "      str: The modified lyrics with the first token replaced.\n",
        "    \"\"\"\n",
        "    new_lyrics = [token]\n",
        "    split_lyrics = lyrics.split()[1:]\n",
        "    for token in split_lyrics:\n",
        "        new_lyrics.append(token)\n",
        "    return ' '.join(new_lyrics)"
      ]
    },
    {
      "cell_type": "code",
      "execution_count": null,
      "metadata": {
        "id": "z4SGn2P9OCrN"
      },
      "outputs": [],
      "source": [
        "test_df_love = test_df.copy()\n",
        "test_df_love['lyrics'] = test_df_love.apply(lambda x: replace_first_token(x[2], 'dont') , axis = 1, raw = True)"
      ]
    },
    {
      "cell_type": "code",
      "execution_count": null,
      "metadata": {
        "id": "3MgYoJ4eOCrN"
      },
      "outputs": [],
      "source": [
        "test_df_dataset = SongsDatasetMidi2(test_df_love, word2vec, word_to_idx, directory)"
      ]
    },
    {
      "cell_type": "code",
      "execution_count": null,
      "metadata": {
        "id": "9N7RnLCbOCrN"
      },
      "outputs": [],
      "source": [
        "input_size = 319\n",
        "hidden_size = 64\n",
        "layers = 1\n",
        "vocab_size = len(idx_to_word)\n",
        "criterion = nn.CrossEntropyLoss()\n",
        "\n",
        "run = neptune.init_run(\n",
        "name = f\"Midi2_dont\",\n",
        "project=\"sitri/song-generator\",\n",
        "api_token=\"eyJhcGlfYWRkcmVzcyI6Imh0dHBzOi8vYXBwLm5lcHR1bmUuYWkiLCJhcGlfdXJsIjoiaHR0cHM6Ly9hcHAubmVwdHVuZS5haSIsImFwaV9rZXkiOiIwOGNjNWZlMS0yYzcwLTQ5MWUtYmQ2Zi03MTJiZGQwMjA0ZTIifQ==\",\n",
        ")  # your credentials\n",
        "\n",
        "params = {\"batch size\": 1, \"learning_rate\": 0.001, \"optimizer\": \"Adam\", \"dropout\": 0, \"batch norm\": False, \"epochs\": 20 , \"note\" : \"love\"}\n",
        "print(params)\n",
        "run[\"parameters\"] = params\n",
        "\n",
        "model = LSTM(input_size, hidden_size, vocab_size, layers, drop=0)\n",
        "optimizer = torch.optim.Adam(model.parameters(), lr=0.001)\n",
        "\n",
        "\n",
        "# Load the checkpoint\n",
        "checkpoint = torch.load(checkpoint_path)\n",
        "# Load the state dict\n",
        "model.load_state_dict(checkpoint['model_state_dict'])\n",
        "optimizer.load_state_dict(checkpoint['optimizer_state_dict'])\n",
        "test_dataloader = DataLoader(test_df_dataset)\n",
        "test(model, test_dataloader, idx_to_word, run, criterion, name=\"test\")\n",
        "\n",
        "\n",
        "run.stop()\n",
        "\n"
      ]
    }
  ],
  "metadata": {
    "colab": {
      "provenance": [],
      "toc_visible": true,
      "include_colab_link": true
    },
    "kernelspec": {
      "display_name": "edenenv",
      "language": "python",
      "name": "edenenv"
    },
    "language_info": {
      "codemirror_mode": {
        "name": "ipython",
        "version": 3
      },
      "file_extension": ".py",
      "mimetype": "text/x-python",
      "name": "python",
      "nbconvert_exporter": "python",
      "pygments_lexer": "ipython3",
      "version": "3.11.5"
    }
  },
  "nbformat": 4,
  "nbformat_minor": 0
}